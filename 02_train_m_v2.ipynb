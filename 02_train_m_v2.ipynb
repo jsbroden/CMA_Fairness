{
 "cells": [
  {
   "cell_type": "code",
   "execution_count": 3,
   "id": "c65c5859",
   "metadata": {},
   "outputs": [],
   "source": [
    "from pipeline_factory import make_train_test_matrices\n",
    "import pandas as pd"
   ]
  },
  {
   "cell_type": "code",
   "execution_count": 4,
   "id": "693eb250",
   "metadata": {},
   "outputs": [],
   "source": [
    "raw_train = pd.read_csv(\"./data/siab_train.csv\")\n",
    "raw_test = pd.read_csv(\"./data/siab_test.csv\")"
   ]
  },
  {
   "cell_type": "code",
   "execution_count": 9,
   "id": "5598ca87",
   "metadata": {},
   "outputs": [],
   "source": [
    "import yaml\n",
    "\n",
    "def load_universe(run_id, yaml_path=\"universes.yaml\"):\n",
    "    \"\"\"\n",
    "    Return the dict whose 'id' equals *run_id*.\n",
    "    Raises KeyError if not found.\n",
    "    \"\"\"\n",
    "    with open(yaml_path) as f:\n",
    "        universes = yaml.safe_load(f)\n",
    "\n",
    "    try:\n",
    "        return next(u for u in universes if u[\"id\"] == run_id)\n",
    "    except StopIteration:\n",
    "        raise KeyError(f\"Universe id {run_id} not in {yaml_path}\")"
   ]
  },
  {
   "cell_type": "code",
   "execution_count": 11,
   "id": "dc5928dc",
   "metadata": {},
   "outputs": [],
   "source": [
    "universe = load_universe(run_id=3)  "
   ]
  },
  {
   "cell_type": "code",
   "execution_count": 12,
   "id": "fd545bc8",
   "metadata": {},
   "outputs": [
    {
     "ename": "NameError",
     "evalue": "name 'pre' is not defined",
     "output_type": "error",
     "traceback": [
      "\u001b[31m---------------------------------------------------------------------------\u001b[39m",
      "\u001b[31mNameError\u001b[39m                                 Traceback (most recent call last)",
      "\u001b[36mCell\u001b[39m\u001b[36m \u001b[39m\u001b[32mIn[12]\u001b[39m\u001b[32m, line 1\u001b[39m\n\u001b[32m----> \u001b[39m\u001b[32m1\u001b[39m X_tr, X_te, y_tr, y_te, pre = \u001b[43mmake_train_test_matrices\u001b[49m\u001b[43m(\u001b[49m\n\u001b[32m      2\u001b[39m \u001b[43m        \u001b[49m\u001b[43mraw_train\u001b[49m\u001b[43m,\u001b[49m\u001b[43m \u001b[49m\u001b[43mraw_test\u001b[49m\u001b[43m,\u001b[49m\u001b[43m \u001b[49m\u001b[43muniverse\u001b[49m\u001b[43m)\u001b[49m\n",
      "\u001b[36mFile \u001b[39m\u001b[32m~/Desktop/CMA_Fairness/pipeline_factory.py:82\u001b[39m, in \u001b[36mmake_train_test_matrices\u001b[39m\u001b[34m(raw_train, raw_test, universe)\u001b[39m\n\u001b[32m     70\u001b[39m encoder = {\n\u001b[32m     71\u001b[39m     \"onehot\": OneHotEncoder(handle_unknown=\"ignore\"),\n\u001b[32m     72\u001b[39m     \"ordinal\": OrdinalEncoder(\n\u001b[32m   (...)\u001b[39m\u001b[32m     75\u001b[39m     \"none\": \"passthrough\",\n\u001b[32m     76\u001b[39m }.get(universe.get(\"encoding\", \"onehot\"))\n\u001b[32m     78\u001b[39m categorical_pipe = Pipeline(\n\u001b[32m     79\u001b[39m     [(\"impute\", SimpleImputer(strategy=\"most_frequent\")), (\"encode\", encoder)]\n\u001b[32m     80\u001b[39m )\n\u001b[32m---> \u001b[39m\u001b[32m82\u001b[39m # -- 1E. Assemble column transformer ----------------------------\n\u001b[32m     83\u001b[39m pre = ColumnTransformer(\n\u001b[32m     84\u001b[39m     [(\"num\", numeric_pipe, num_cols), (\"cat\", categorical_pipe, cat_cols)],\n\u001b[32m     85\u001b[39m     remainder=\"drop\",\n\u001b[32m     86\u001b[39m )\n\u001b[32m     88\u001b[39m return pre, feat_cols\n",
      "\u001b[31mNameError\u001b[39m: name 'pre' is not defined"
     ]
    }
   ],
   "source": [
    "X_tr, X_te, y_tr, y_te, pre = make_train_test_matrices(\n",
    "        raw_train, raw_test, universe)"
   ]
  },
  {
   "cell_type": "code",
   "execution_count": 6,
   "id": "56a85619",
   "metadata": {},
   "outputs": [
    {
     "ename": "NameError",
     "evalue": "name 'choose_model' is not defined",
     "output_type": "error",
     "traceback": [
      "\u001b[31m---------------------------------------------------------------------------\u001b[39m",
      "\u001b[31mNameError\u001b[39m                                 Traceback (most recent call last)",
      "\u001b[36mCell\u001b[39m\u001b[36m \u001b[39m\u001b[32mIn[6]\u001b[39m\u001b[32m, line 1\u001b[39m\n\u001b[32m----> \u001b[39m\u001b[32m1\u001b[39m clf = \u001b[43mchoose_model\u001b[49m(universe[\u001b[33m\"\u001b[39m\u001b[33mmodel\u001b[39m\u001b[33m\"\u001b[39m])\n",
      "\u001b[31mNameError\u001b[39m: name 'choose_model' is not defined"
     ]
    }
   ],
   "source": [
    "clf = choose_model(universe[\"model\"])"
   ]
  },
  {
   "cell_type": "code",
   "execution_count": 7,
   "id": "6253790b",
   "metadata": {},
   "outputs": [
    {
     "ename": "NameError",
     "evalue": "name 'Pipeline' is not defined",
     "output_type": "error",
     "traceback": [
      "\u001b[31m---------------------------------------------------------------------------\u001b[39m",
      "\u001b[31mNameError\u001b[39m                                 Traceback (most recent call last)",
      "\u001b[36mCell\u001b[39m\u001b[36m \u001b[39m\u001b[32mIn[7]\u001b[39m\u001b[32m, line 1\u001b[39m\n\u001b[32m----> \u001b[39m\u001b[32m1\u001b[39m pipe = \u001b[43mPipeline\u001b[49m([(\u001b[33m\"\u001b[39m\u001b[33mpre\u001b[39m\u001b[33m\"\u001b[39m, pre), (\u001b[33m\"\u001b[39m\u001b[33mmodel\u001b[39m\u001b[33m\"\u001b[39m, clf)])\n",
      "\u001b[31mNameError\u001b[39m: name 'Pipeline' is not defined"
     ]
    }
   ],
   "source": [
    "pipe = Pipeline([(\"pre\", pre), (\"model\", clf)])"
   ]
  },
  {
   "cell_type": "code",
   "execution_count": 8,
   "id": "3c0ac45c",
   "metadata": {},
   "outputs": [
    {
     "ename": "NameError",
     "evalue": "name 'pipe' is not defined",
     "output_type": "error",
     "traceback": [
      "\u001b[31m---------------------------------------------------------------------------\u001b[39m",
      "\u001b[31mNameError\u001b[39m                                 Traceback (most recent call last)",
      "\u001b[36mCell\u001b[39m\u001b[36m \u001b[39m\u001b[32mIn[8]\u001b[39m\u001b[32m, line 1\u001b[39m\n\u001b[32m----> \u001b[39m\u001b[32m1\u001b[39m \u001b[43mpipe\u001b[49m.fit(X_tr, y_tr)\n",
      "\u001b[31mNameError\u001b[39m: name 'pipe' is not defined"
     ]
    }
   ],
   "source": [
    "pipe.fit(X_tr, y_tr)"
   ]
  }
 ],
 "metadata": {
  "kernelspec": {
   "display_name": "cma_f",
   "language": "python",
   "name": "python3"
  },
  "language_info": {
   "codemirror_mode": {
    "name": "ipython",
    "version": 3
   },
   "file_extension": ".py",
   "mimetype": "text/x-python",
   "name": "python",
   "nbconvert_exporter": "python",
   "pygments_lexer": "ipython3",
   "version": "3.11.8"
  }
 },
 "nbformat": 4,
 "nbformat_minor": 5
}
