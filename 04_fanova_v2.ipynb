{
 "cells": [
  {
   "cell_type": "markdown",
   "id": "3c55d186",
   "metadata": {},
   "source": [
    "fANOVA on Average Prediction Set Size"
   ]
  },
  {
   "cell_type": "code",
   "execution_count": 21,
   "id": "d50d373b",
   "metadata": {},
   "outputs": [],
   "source": [
    "from __future__ import annotations\n",
    "\n",
    "import ast\n",
    "import os\n",
    "from pathlib import Path\n",
    "from typing import Dict, List\n",
    "\n",
    "import numpy as np\n",
    "\n",
    "if not hasattr(np, \"float\"):\n",
    "    np.float = np.float64  # type: ignore[attr-defined]\n",
    "    \n",
    "import pandas as pd\n",
    "from ConfigSpace import ConfigurationSpace, CategoricalHyperparameter\n",
    "from fanova import fANOVA\n",
    "from fanova.visualizer import Visualizer"
   ]
  },
  {
   "cell_type": "code",
   "execution_count": 2,
   "id": "51fc02fe",
   "metadata": {},
   "outputs": [],
   "source": [
    "DATA_PATH: Path | str = \"./data/all_universe_predictions.csv\""
   ]
  },
  {
   "cell_type": "code",
   "execution_count": 3,
   "id": "e527ebc9",
   "metadata": {},
   "outputs": [],
   "source": [
    "DECISION_COLUMNS: List[str] = [\n",
    "    \"feature_set\",\n",
    "    \"model\",\n",
    "    # \"threshold_policy\",  # uncomment if this column exists\n",
    "]\n",
    "OUTPUT_DIR: Path | str | None = \"fanova_avg_set_size_out\"  # set to None to skip plots\n",
    "SEED: int | None = 42  # for ConfigSpace reproducibility"
   ]
  },
  {
   "cell_type": "code",
   "execution_count": 4,
   "id": "e33a1702",
   "metadata": {},
   "outputs": [],
   "source": [
    "df = pd.read_csv(DATA_PATH)"
   ]
  },
  {
   "cell_type": "code",
   "execution_count": 5,
   "id": "e16dc330",
   "metadata": {},
   "outputs": [],
   "source": [
    "def _to_set(obj):\n",
    "    if isinstance(obj, str):\n",
    "        obj = ast.literal_eval(obj)\n",
    "    return set(obj)\n",
    "\n",
    "df[\"pred_set\"] = df[\"pred_set\"].apply(_to_set)\n",
    "df[\"set_size\"] = df[\"pred_set\"].apply(len)"
   ]
  },
  {
   "cell_type": "code",
   "execution_count": 6,
   "id": "71a1f534",
   "metadata": {},
   "outputs": [],
   "source": [
    "universe_df = (\n",
    "    df.groupby(DECISION_COLUMNS)[\"set_size\"].mean().reset_index(name=\"avg_set_size\")\n",
    ")"
   ]
  },
  {
   "cell_type": "code",
   "execution_count": 7,
   "id": "c468db4a",
   "metadata": {},
   "outputs": [
    {
     "name": "stderr",
     "output_type": "stream",
     "text": [
      "/var/folders/h7/6qcvyjh51cg86vrxn3xs8c_40000gn/T/ipykernel_45198/2793468293.py:3: DeprecationWarning: Please use `space.add(hyperparameter)`\n",
      "  cs.add_hyperparameter(CategoricalHyperparameter(col, sorted(universe_df[col].unique())))\n",
      "/var/folders/h7/6qcvyjh51cg86vrxn3xs8c_40000gn/T/ipykernel_45198/2793468293.py:5: DeprecationWarning: Please use `list(space.values())`\n",
      "  hp_order = [hp.name for hp in cs.get_hyperparameters()]\n"
     ]
    }
   ],
   "source": [
    "cs = ConfigurationSpace(seed=SEED)\n",
    "for col in DECISION_COLUMNS:\n",
    "    cs.add_hyperparameter(CategoricalHyperparameter(col, sorted(universe_df[col].unique())))\n",
    "\n",
    "hp_order = [hp.name for hp in cs.get_hyperparameters()]\n"
   ]
  },
  {
   "cell_type": "code",
   "execution_count": 10,
   "id": "b108e34b",
   "metadata": {},
   "outputs": [],
   "source": [
    "X_df = universe_df[hp_order].copy()\n",
    "_encoders: Dict[str, Dict[str, int]] = {}\n",
    "for col in hp_order:\n",
    "    mapping = {val: idx for idx, val in enumerate(sorted(X_df[col].unique()))}\n",
    "    _encoders[col] = mapping\n",
    "    X_df[col] = X_df[col].map(mapping).astype(float)"
   ]
  },
  {
   "cell_type": "code",
   "execution_count": 11,
   "id": "41dc7a6d",
   "metadata": {},
   "outputs": [],
   "source": [
    "X: np.ndarray = X_df.to_numpy(dtype=float)"
   ]
  },
  {
   "cell_type": "code",
   "execution_count": 15,
   "id": "cca17d20",
   "metadata": {},
   "outputs": [],
   "source": [
    "Y: np.ndarray = universe_df[\"avg_set_size\"].astype(np.float64).to_numpy()\n",
    "assert np.issubdtype(Y.dtype, np.floating), \"Y is not float – check dtype conversion\"\n"
   ]
  },
  {
   "cell_type": "code",
   "execution_count": null,
   "id": "1f0f0822",
   "metadata": {},
   "outputs": [],
   "source": [
    "#Y: np.ndarray = (\n",
    "#    pd.to_numeric(universe_df[\"avg_set_size\"], errors=\"coerce\")\n",
    "#    .astype(float)\n",
    "#    .to_numpy()\n",
    "#)"
   ]
  },
  {
   "cell_type": "code",
   "execution_count": 16,
   "id": "dc57a27a",
   "metadata": {},
   "outputs": [
    {
     "name": "stdout",
     "output_type": "stream",
     "text": [
      "X dtype: float64, shape: (6, 2)\n",
      "Y dtype: float64, min: 1.123, max: 1.144\n"
     ]
    }
   ],
   "source": [
    "# Quick sanity checks\n",
    "print(f\"X dtype: {X.dtype}, shape: {X.shape}\")\n",
    "print(f\"Y dtype: {Y.dtype}, min: {Y.min():.3f}, max: {Y.max():.3f}\")"
   ]
  },
  {
   "cell_type": "code",
   "execution_count": 18,
   "id": "84f1a765",
   "metadata": {},
   "outputs": [
    {
     "name": "stderr",
     "output_type": "stream",
     "text": [
      "WARNING:fanova.fanova.fANOVA:Note that fANOVA expects data to be ordered like the return of ConfigSpace's 'get_hyperparameters'-method. We recommend to use labeled pandas dataframes to avoid any problems.\n"
     ]
    }
   ],
   "source": [
    "fanova = fANOVA(X, Y, cs)"
   ]
  },
  {
   "cell_type": "markdown",
   "id": "9bcd0449",
   "metadata": {},
   "source": [
    "fANOVA chokes if the underlying random-forest ends up with zero-variance trees—common when you only have a handful of universes (six rows) and the target varies little"
   ]
  },
  {
   "cell_type": "code",
   "execution_count": 22,
   "id": "fef77466",
   "metadata": {},
   "outputs": [
    {
     "name": "stdout",
     "output_type": "stream",
     "text": [
      "\n",
      "=== Main‑effect importance (average prediction‑set size) ===\n"
     ]
    },
    {
     "ename": "IndexError",
     "evalue": "list index out of range",
     "output_type": "error",
     "traceback": [
      "\u001b[31m---------------------------------------------------------------------------\u001b[39m",
      "\u001b[31mIndexError\u001b[39m                                Traceback (most recent call last)",
      "\u001b[36mCell\u001b[39m\u001b[36m \u001b[39m\u001b[32mIn[22]\u001b[39m\u001b[32m, line 3\u001b[39m\n\u001b[32m      1\u001b[39m \u001b[38;5;28mprint\u001b[39m(\u001b[33m\"\u001b[39m\u001b[38;5;130;01m\\n\u001b[39;00m\u001b[33m=== Main‑effect importance (average prediction‑set size) ===\u001b[39m\u001b[33m\"\u001b[39m)\n\u001b[32m      2\u001b[39m \u001b[38;5;28;01mfor\u001b[39;00m i, hp \u001b[38;5;129;01min\u001b[39;00m \u001b[38;5;28menumerate\u001b[39m(hp_order):\n\u001b[32m----> \u001b[39m\u001b[32m3\u001b[39m     imp = \u001b[43mfanova\u001b[49m\u001b[43m.\u001b[49m\u001b[43mquantify_importance\u001b[49m\u001b[43m(\u001b[49m\u001b[43m[\u001b[49m\u001b[43mi\u001b[49m\u001b[43m]\u001b[49m\u001b[43m)\u001b[49m[\u001b[33m\"\u001b[39m\u001b[33mindividual importance\u001b[39m\u001b[33m\"\u001b[39m]\n\u001b[32m      4\u001b[39m     \u001b[38;5;28mprint\u001b[39m(\u001b[33mf\u001b[39m\u001b[33m\"\u001b[39m\u001b[38;5;132;01m{\u001b[39;00mhp\u001b[38;5;132;01m:\u001b[39;00m\u001b[33m20s\u001b[39m\u001b[38;5;132;01m}\u001b[39;00m\u001b[33m: \u001b[39m\u001b[38;5;132;01m{\u001b[39;00mimp\u001b[38;5;132;01m:\u001b[39;00m\u001b[33m.4f\u001b[39m\u001b[38;5;132;01m}\u001b[39;00m\u001b[33m\"\u001b[39m)\n\u001b[32m      6\u001b[39m \u001b[38;5;28mprint\u001b[39m(\u001b[33m\"\u001b[39m\u001b[38;5;130;01m\\n\u001b[39;00m\u001b[33m=== Pairwise interaction importance ===\u001b[39m\u001b[33m\"\u001b[39m)\n",
      "\u001b[36mFile \u001b[39m\u001b[32m~/Desktop/CMA_Fairness/cma_f/lib/python3.11/site-packages/fanova/fanova.py:343\u001b[39m, in \u001b[36mfANOVA.quantify_importance\u001b[39m\u001b[34m(self, dims)\u001b[39m\n\u001b[32m    340\u001b[39m \u001b[38;5;28;01mif\u001b[39;00m \u001b[38;5;28mlen\u001b[39m(non_zero_idx[\u001b[32m0\u001b[39m]) == \u001b[32m0\u001b[39m:\n\u001b[32m    341\u001b[39m     \u001b[38;5;28;01mraise\u001b[39;00m \u001b[38;5;167;01mRuntimeError\u001b[39;00m(\u001b[33m'\u001b[39m\u001b[33mEncountered zero total variance in all trees.\u001b[39m\u001b[33m'\u001b[39m)\n\u001b[32m--> \u001b[39m\u001b[32m343\u001b[39m fractions_total = np.array(\u001b[43m[\u001b[49m\u001b[38;5;28;43mself\u001b[39;49m\u001b[43m.\u001b[49m\u001b[43mV_U_total\u001b[49m\u001b[43m[\u001b[49m\u001b[43msub_dims\u001b[49m\u001b[43m]\u001b[49m\u001b[43m[\u001b[49m\u001b[43mt\u001b[49m\u001b[43m]\u001b[49m\u001b[43m \u001b[49m\u001b[43m/\u001b[49m\u001b[43m \u001b[49m\u001b[38;5;28;43mself\u001b[39;49m\u001b[43m.\u001b[49m\u001b[43mtrees_total_variance\u001b[49m\u001b[43m[\u001b[49m\u001b[43mt\u001b[49m\u001b[43m]\u001b[49m\n\u001b[32m    344\u001b[39m \u001b[43m                            \u001b[49m\u001b[38;5;28;43;01mfor\u001b[39;49;00m\u001b[43m \u001b[49m\u001b[43mt\u001b[49m\u001b[43m \u001b[49m\u001b[38;5;129;43;01min\u001b[39;49;00m\u001b[43m \u001b[49m\u001b[43mnon_zero_idx\u001b[49m\u001b[43m[\u001b[49m\u001b[32;43m0\u001b[39;49m\u001b[43m]\u001b[49m\u001b[43m]\u001b[49m)\n\u001b[32m    345\u001b[39m fractions_individual = np.array([\u001b[38;5;28mself\u001b[39m.V_U_individual[sub_dims][t] / \u001b[38;5;28mself\u001b[39m.trees_total_variance[t]\n\u001b[32m    346\u001b[39m                                  \u001b[38;5;28;01mfor\u001b[39;00m t \u001b[38;5;129;01min\u001b[39;00m non_zero_idx[\u001b[32m0\u001b[39m]])\n\u001b[32m    348\u001b[39m \u001b[38;5;28;01mif\u001b[39;00m \u001b[38;5;28mtype\u001b[39m(dims[\u001b[32m0\u001b[39m]) == \u001b[38;5;28mstr\u001b[39m:\n",
      "\u001b[36mFile \u001b[39m\u001b[32m~/Desktop/CMA_Fairness/cma_f/lib/python3.11/site-packages/fanova/fanova.py:343\u001b[39m, in \u001b[36m<listcomp>\u001b[39m\u001b[34m(.0)\u001b[39m\n\u001b[32m    340\u001b[39m \u001b[38;5;28;01mif\u001b[39;00m \u001b[38;5;28mlen\u001b[39m(non_zero_idx[\u001b[32m0\u001b[39m]) == \u001b[32m0\u001b[39m:\n\u001b[32m    341\u001b[39m     \u001b[38;5;28;01mraise\u001b[39;00m \u001b[38;5;167;01mRuntimeError\u001b[39;00m(\u001b[33m'\u001b[39m\u001b[33mEncountered zero total variance in all trees.\u001b[39m\u001b[33m'\u001b[39m)\n\u001b[32m--> \u001b[39m\u001b[32m343\u001b[39m fractions_total = np.array([\u001b[38;5;28;43mself\u001b[39;49m\u001b[43m.\u001b[49m\u001b[43mV_U_total\u001b[49m\u001b[43m[\u001b[49m\u001b[43msub_dims\u001b[49m\u001b[43m]\u001b[49m\u001b[43m[\u001b[49m\u001b[43mt\u001b[49m\u001b[43m]\u001b[49m / \u001b[38;5;28mself\u001b[39m.trees_total_variance[t]\n\u001b[32m    344\u001b[39m                             \u001b[38;5;28;01mfor\u001b[39;00m t \u001b[38;5;129;01min\u001b[39;00m non_zero_idx[\u001b[32m0\u001b[39m]])\n\u001b[32m    345\u001b[39m fractions_individual = np.array([\u001b[38;5;28mself\u001b[39m.V_U_individual[sub_dims][t] / \u001b[38;5;28mself\u001b[39m.trees_total_variance[t]\n\u001b[32m    346\u001b[39m                                  \u001b[38;5;28;01mfor\u001b[39;00m t \u001b[38;5;129;01min\u001b[39;00m non_zero_idx[\u001b[32m0\u001b[39m]])\n\u001b[32m    348\u001b[39m \u001b[38;5;28;01mif\u001b[39;00m \u001b[38;5;28mtype\u001b[39m(dims[\u001b[32m0\u001b[39m]) == \u001b[38;5;28mstr\u001b[39m:\n",
      "\u001b[31mIndexError\u001b[39m: list index out of range"
     ]
    }
   ],
   "source": [
    "print(\"\\n=== Main‑effect importance (average prediction‑set size) ===\")\n",
    "for i, hp in enumerate(hp_order):\n",
    "    imp = fanova.quantify_importance([i])[\"individual importance\"]\n",
    "    print(f\"{hp:20s}: {imp:.4f}\")\n",
    "\n",
    "print(\"\\n=== Pairwise interaction importance ===\")\n",
    "for i in range(len(hp_order)):\n",
    "    for j in range(i + 1, len(hp_order)):\n",
    "        imp = fanova.quantify_importance([i, j])[\"total importance\"]\n",
    "        if imp > 0:  # skip zero‑variance interactions for brevity\n",
    "            print(f\"{hp_order[i]} × {hp_order[j]:15s}: {imp:.4f}\")"
   ]
  },
  {
   "cell_type": "code",
   "execution_count": null,
   "id": "cd73097d",
   "metadata": {},
   "outputs": [],
   "source": [
    "if OUTPUT_DIR is not None:\n",
    "    print(\"Generating visualisation files …\")\n",
    "    Path(OUTPUT_DIR).mkdir(parents=True, exist_ok=True)\n",
    "    _ = Visualizer(fanova, cs, str(OUTPUT_DIR))\n",
    "    print(f\"Graphviz output written to '{OUTPUT_DIR}'.\")\n"
   ]
  }
 ],
 "metadata": {
  "language_info": {
   "name": "python"
  }
 },
 "nbformat": 4,
 "nbformat_minor": 5
}
