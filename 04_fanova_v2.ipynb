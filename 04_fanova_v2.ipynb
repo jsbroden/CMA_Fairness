{
 "cells": [
  {
   "cell_type": "code",
   "execution_count": 1,
   "id": "67561337",
   "metadata": {},
   "outputs": [],
   "source": [
    "import pandas as pd"
   ]
  },
  {
   "cell_type": "code",
   "execution_count": null,
   "id": "472d556c",
   "metadata": {},
   "outputs": [],
   "source": [
    "# 1. Mark each prediction as ambiguous\n",
    "df['is_ambiguous'] = df['prediction_set'].apply(lambda labels: 1 if len(labels) > 1 else 0)"
   ]
  },
  {
   "cell_type": "code",
   "execution_count": null,
   "id": "484ef13b",
   "metadata": {},
   "outputs": [],
   "source": [
    "# 2. Compute the fraction of ambiguous predictions for each combination of (universe decisions + subgroup)\n",
    "group_cols = ['feature_set', 'model', 'threshold_policy', 'gender', 'nationality']\n",
    "fractions = df.groupby(group_cols)['is_ambiguous'].mean().reset_index()"
   ]
  },
  {
   "cell_type": "code",
   "execution_count": null,
   "id": "47c4ea62",
   "metadata": {},
   "outputs": [],
   "source": [
    "# `fractions` now contains one row per (feature_set, model, threshold_policy, gender, nationality) \n",
    "# with the mean of `is_ambiguous`, which is the fraction of predictions that are ambiguous in that subgroup.\n",
    "print(fractions.head())  # For debugging: view the first few rows of fraction results"
   ]
  }
 ],
 "metadata": {
  "kernelspec": {
   "display_name": "cma_f",
   "language": "python",
   "name": "python3"
  },
  "language_info": {
   "codemirror_mode": {
    "name": "ipython",
    "version": 3
   },
   "file_extension": ".py",
   "mimetype": "text/x-python",
   "name": "python",
   "nbconvert_exporter": "python",
   "pygments_lexer": "ipython3",
   "version": "3.11.8"
  }
 },
 "nbformat": 4,
 "nbformat_minor": 5
}
