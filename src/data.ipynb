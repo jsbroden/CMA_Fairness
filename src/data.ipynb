{
 "cells": [
  {
   "cell_type": "code",
   "execution_count": 1,
   "id": "911b4fb6",
   "metadata": {},
   "outputs": [],
   "source": [
    "import pandas as pd\n",
    "from typing import List, Optional"
   ]
  },
  {
   "cell_type": "code",
   "execution_count": 2,
   "id": "8b75c157",
   "metadata": {},
   "outputs": [],
   "source": [
    "def load_data(path: str = 'data/raw/siab.csv') -> pd.DataFrame:\n",
    "    \"\"\"\n",
    "    Load raw dataset.\n",
    "\n",
    "    Args:\n",
    "        path: Filepath to CSV data.\n",
    "    Returns:\n",
    "        DataFrame of raw data.\n",
    "    \"\"\"\n",
    "    return pd.read_csv(path)"
   ]
  },
  {
   "cell_type": "code",
   "execution_count": 3,
   "id": "008a0f3a",
   "metadata": {},
   "outputs": [],
   "source": [
    "def filter_data(df: pd.DataFrame, exclude: Optional[List[str]] = None) -> pd.DataFrame:\n",
    "    \"\"\"\n",
    "    Exclude specified subgroups (e.g., sensitive groups) from df.\n",
    "\n",
    "    Args:\n",
    "        df: Input DataFrame.\n",
    "        exclude: List of subgroup values to drop (column 'subgroup').\n",
    "    Returns:\n",
    "        Filtered DataFrame.\n",
    "    \"\"\"\n",
    "    if exclude:\n",
    "        return df[~df['subgroup'].isin(exclude)].reset_index(drop=True)\n",
    "    return df"
   ]
  }
 ],
 "metadata": {
  "kernelspec": {
   "display_name": "cma_f",
   "language": "python",
   "name": "python3"
  },
  "language_info": {
   "codemirror_mode": {
    "name": "ipython",
    "version": 3
   },
   "file_extension": ".py",
   "mimetype": "text/x-python",
   "name": "python",
   "nbconvert_exporter": "python",
   "pygments_lexer": "ipython3",
   "version": "3.11.8"
  }
 },
 "nbformat": 4,
 "nbformat_minor": 5
}
