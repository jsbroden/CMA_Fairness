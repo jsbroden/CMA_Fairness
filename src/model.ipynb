{
 "cells": [
  {
   "cell_type": "code",
   "execution_count": null,
   "id": "5f2422f5",
   "metadata": {},
   "outputs": [],
   "source": [
    "from typing import Tuple\n",
    "import numpy as np\n",
    "from sklearn.linear_model import LogisticRegression\n",
    "from sklearn.ensemble import RandomForestClassifier\n",
    "from sklearn.model_selection import GridSearchCV"
   ]
  },
  {
   "cell_type": "code",
   "execution_count": null,
   "id": "a6565159",
   "metadata": {},
   "outputs": [],
   "source": [
    "def train_model(\n",
    "    X, y,\n",
    "    model_type: str = 'logistic'\n",
    "):\n",
    "    \"\"\"\n",
    "    Train a classification model.\n",
    "\n",
    "    Args:\n",
    "        X: Features\n",
    "        y: Labels\n",
    "        model_type: 'logistic' or 'random_forest'\n",
    "    Returns:\n",
    "        Trained model\n",
    "    \"\"\"\n",
    "    if model_type == 'logistic':\n",
    "        model = LogisticRegression(solver='liblinear')\n",
    "        model.fit(X, y)\n",
    "    elif model_type == 'random_forest':\n",
    "        params = {'n_estimators': [100, 200], 'max_depth': [None, 5]}\n",
    "        rf = RandomForestClassifier(random_state=0)\n",
    "        model = GridSearchCV(rf, params, cv=3)\n",
    "        model.fit(X, y)\n",
    "    else:\n",
    "        raise ValueError(f\"Unknown model_type: {model_type}\")\n",
    "    return model"
   ]
  },
  {
   "cell_type": "code",
   "execution_count": null,
   "id": "5176ace7",
   "metadata": {},
   "outputs": [],
   "source": [
    "def apply_threshold(\n",
    "    model,\n",
    "    X,\n",
    "    policy: str = 'fixed',\n",
    "    threshold: float = 0.5\n",
    ") -> Tuple[np.ndarray, float]:\n",
    "    \"\"\"\n",
    "    Generate predictions using a threshold policy.\n",
    "\n",
    "    Args:\n",
    "        model: Trained classifier\n",
    "        X: Features\n",
    "        policy: 'fixed' or 'optimized'\n",
    "        threshold: threshold for 'fixed'\n",
    "    Returns:\n",
    "        y_pred: Binary predictions\n",
    "        threshold: Used threshold\n",
    "    \"\"\"\n",
    "    probs = model.predict_proba(X)[:, 1]\n",
    "    if policy == 'fixed':\n",
    "        thr = threshold\n",
    "    elif policy == 'optimized':\n",
    "        # Simple: use median probability\n",
    "        thr = np.median(probs)\n",
    "    else:\n",
    "        raise ValueError(f\"Unknown policy: {policy}\")\n",
    "\n",
    "    y_pred = (probs >= thr).astype(int)\n",
    "    return y_pred, thr"
   ]
  }
 ],
 "metadata": {
  "language_info": {
   "name": "python"
  }
 },
 "nbformat": 4,
 "nbformat_minor": 5
}
