{
 "cells": [
  {
   "cell_type": "code",
   "execution_count": null,
   "id": "b97aeccd",
   "metadata": {},
   "outputs": [],
   "source": [
    "import pandas as pd\n",
    "from sklearn.preprocessing import StandardScaler, OneHotEncoder\n",
    "from typing import Tuple"
   ]
  },
  {
   "cell_type": "code",
   "execution_count": null,
   "id": "af6e1a12",
   "metadata": {},
   "outputs": [],
   "source": [
    "def build_features(\n",
    "    df: pd.DataFrame,\n",
    "    feature_set: str = 'base'\n",
    ") -> Tuple[pd.DataFrame, pd.Series]:\n",
    "    \"\"\"\n",
    "    Generate feature matrix X and label y.\n",
    "\n",
    "    Args:\n",
    "        df: Input DataFrame after filtering.\n",
    "        feature_set: 'base' or 'extended'.\n",
    "    Returns:\n",
    "        X: Feature DataFrame\n",
    "        y: Labels Series (column 'label').\n",
    "    \"\"\"\n",
    "    # Label\n",
    "    y = df['label']\n",
    "\n",
    "    # Base features\n",
    "    features = ['age', 'income']\n",
    "    # Extended features\n",
    "    if feature_set == 'extended':\n",
    "        features += ['education_years', 'credit_score']\n",
    "\n",
    "    X = df[features].copy()\n",
    "\n",
    "    # Scaling numeric\n",
    "    scaler = StandardScaler()\n",
    "    X[features] = scaler.fit_transform(X[features])\n",
    "\n",
    "    return X, y"
   ]
  }
 ],
 "metadata": {
  "language_info": {
   "name": "python"
  }
 },
 "nbformat": 4,
 "nbformat_minor": 5
}
