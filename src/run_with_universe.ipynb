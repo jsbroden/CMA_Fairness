{
 "cells": [
  {
   "cell_type": "code",
   "execution_count": null,
   "id": "7a2b7c75",
   "metadata": {},
   "outputs": [],
   "source": [
    "import json\n",
    "import yaml\n",
    "import argparse\n",
    "import pandas as pd\n",
    "from pathlib import Path\n",
    "\n",
    "from src.data_preparation import make_dataset\n",
    "from src.model_zoo import choose_model\n",
    "from sklearn.pipeline import Pipeline\n",
    "from src.eval_metrics import compute_all_metrics"
   ]
  },
  {
   "cell_type": "code",
   "execution_count": null,
   "id": "376ace64",
   "metadata": {},
   "outputs": [],
   "source": [
    "def load_universe(args):\n",
    "    # If a JSON file is provided, load from JSON; else fall back to YAML selection\n",
    "    if args.universe_json:\n",
    "        with open(args.universe_json) as f:\n",
    "            return json.load(f)\n",
    "    else:\n",
    "        with open(args.universes_yaml) as f:\n",
    "            universes = yaml.safe_load(f)\n",
    "        return next(u for u in universes if u['id'] == args.run_id)\n"
   ]
  }
 ],
 "metadata": {
  "language_info": {
   "name": "python"
  }
 },
 "nbformat": 4,
 "nbformat_minor": 5
}
