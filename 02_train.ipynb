{
 "cells": [
  {
   "cell_type": "markdown",
   "id": "d7bebcf4",
   "metadata": {},
   "source": [
    "## Setup"
   ]
  },
  {
   "cell_type": "code",
   "execution_count": 1,
   "id": "08327b49",
   "metadata": {},
   "outputs": [],
   "source": [
    "import matplotlib.pyplot as plt\n",
    "import numpy as np\n",
    "import pandas as pd\n",
    "\n",
    "from sklearn.metrics import precision_score, recall_score, make_scorer\n",
    "from sklearn.model_selection import TimeSeriesSplit, GroupKFold, GridSearchCV, cross_validate\n",
    "from sklearn.linear_model import LogisticRegression\n",
    "from sklearn.ensemble import RandomForestClassifier, GradientBoostingClassifier\n",
    "from joblib import dump, load\n",
    "\n",
    "#from utils import precision_at_k, recall_at_k"
   ]
  },
  {
   "cell_type": "code",
   "execution_count": 64,
   "id": "39d29b5d",
   "metadata": {},
   "outputs": [],
   "source": [
    "from utils import precision_at_k, recall_at_k"
   ]
  },
  {
   "cell_type": "markdown",
   "id": "8298f2b2",
   "metadata": {},
   "source": [
    "## Data Loading"
   ]
  },
  {
   "cell_type": "code",
   "execution_count": 2,
   "id": "aa524e9f",
   "metadata": {},
   "outputs": [],
   "source": [
    "X_train_f = pd.read_csv(\"./output/X_train_f.csv\") # 2010 - 2014, w. protected attributes\n",
    "X_train_s = pd.read_csv(\"./output/X_train_s.csv\") # 2010 - 2014, w/o protected attributes\n",
    "y_train = pd.read_csv(\"./output/y_train.csv\").iloc[:,0]\n",
    "\n",
    "X_calib_f = pd.read_csv(\"./output/X_calib_f.csv\") # 2015, w. protected attributes\n",
    "X_calib_s = pd.read_csv(\"./output/X_calib_s.csv\") # 2015, w/o protected attributes\n",
    "y_calib = pd.read_csv(\"./output/y_calib.csv\").iloc[:,0]\n",
    "\n",
    "X_test_f = pd.read_csv(\"./output/X_test_f.csv\")\n",
    "X_test_s = pd.read_csv(\"./output/X_test_s.csv\")\n",
    "y_test = pd.read_csv(\"./output/y_test.csv\").iloc[:,0]"
   ]
  },
  {
   "cell_type": "markdown",
   "id": "d403690f",
   "metadata": {},
   "source": [
    "## Correlation Analysis"
   ]
  },
  {
   "cell_type": "code",
   "execution_count": 3,
   "id": "283cf1bf",
   "metadata": {},
   "outputs": [
    {
     "data": {
      "application/vnd.microsoft.datawrangler.viewer.v0+json": {
       "columns": [
        {
         "name": "(None, None)",
         "rawType": "object",
         "type": "unknown"
        },
        {
         "name": "0",
         "rawType": "float64",
         "type": "float"
        }
       ],
       "ref": "5f5632e0-50fc-48cd-ba56-caa2cb4ca8bf",
       "rows": [
        [
         "('ft_tot_dur_byage', 'ft_tot_dur')",
         "0.9541610192159021"
        ],
        [
         "('ft_tot_dur', 'ft_tot_dur_byage')",
         "0.9541610192159021"
        ],
        [
         "('maxbula.Missing.', 'lastjob_pt99999')",
         "0.9545244880550865"
        ],
        [
         "('lastjob_pt99999', 'maxbula.Missing.')",
         "0.9545244880550865"
        ],
        [
         "('seeking1_tot_dur_byage', 'seeking1_tot_dur')",
         "0.9554199560118939"
        ],
        [
         "('seeking1_tot_dur', 'seeking1_tot_dur_byage')",
         "0.9554199560118939"
        ],
        [
         "('lastjob_none', 'maxbula.Missing.')",
         "0.9611197122038286"
        ],
        [
         "('maxbula.Missing.', 'lastjob_none')",
         "0.9611197122038286"
        ],
        [
         "('lastjob_type99999', 'maxbula.Missing.')",
         "0.9611197122038286"
        ],
        [
         "('maxbula.Missing.', 'tsince_lm_contact_cat5')",
         "0.9611197122038286"
        ],
        [
         "('tsince_lm_contact_cat5', 'maxbula.Missing.')",
         "0.9611197122038286"
        ],
        [
         "('maxbula.Missing.', 'lastjob_type99999')",
         "0.9611197122038286"
        ],
        [
         "('maxbula.Missing.', 'lastjob_parallel99999')",
         "0.9611197122038287"
        ],
        [
         "('lastjob_parallel99999', 'maxbula.Missing.')",
         "0.9611197122038287"
        ],
        [
         "('emp1_total_dur', 'emp1_total_dur_byage')",
         "0.9634949129039041"
        ],
        [
         "('emp1_total_dur_byage', 'emp1_total_dur')",
         "0.9634949129039041"
        ],
        [
         "('secjob_tot_dur', 'secjob_tot_dur_byage')",
         "0.9658842568532805"
        ],
        [
         "('secjob_tot_dur_byage', 'secjob_tot_dur')",
         "0.9658842568532805"
        ],
        [
         "('LEH_tot_dur_byage', 'LEH_tot_dur')",
         "0.9773088010525277"
        ],
        [
         "('LEH_tot_dur', 'LEH_tot_dur_byage')",
         "0.9773088010525277"
        ]
       ],
       "shape": {
        "columns": 1,
        "rows": 20
       }
      },
      "text/plain": [
       "ft_tot_dur_byage        ft_tot_dur                0.954161\n",
       "ft_tot_dur              ft_tot_dur_byage          0.954161\n",
       "maxbula.Missing.        lastjob_pt99999           0.954524\n",
       "lastjob_pt99999         maxbula.Missing.          0.954524\n",
       "seeking1_tot_dur_byage  seeking1_tot_dur          0.955420\n",
       "seeking1_tot_dur        seeking1_tot_dur_byage    0.955420\n",
       "lastjob_none            maxbula.Missing.          0.961120\n",
       "maxbula.Missing.        lastjob_none              0.961120\n",
       "lastjob_type99999       maxbula.Missing.          0.961120\n",
       "maxbula.Missing.        tsince_lm_contact_cat5    0.961120\n",
       "tsince_lm_contact_cat5  maxbula.Missing.          0.961120\n",
       "maxbula.Missing.        lastjob_type99999         0.961120\n",
       "                        lastjob_parallel99999     0.961120\n",
       "lastjob_parallel99999   maxbula.Missing.          0.961120\n",
       "emp1_total_dur          emp1_total_dur_byage      0.963495\n",
       "emp1_total_dur_byage    emp1_total_dur            0.963495\n",
       "secjob_tot_dur          secjob_tot_dur_byage      0.965884\n",
       "secjob_tot_dur_byage    secjob_tot_dur            0.965884\n",
       "LEH_tot_dur_byage       LEH_tot_dur               0.977309\n",
       "LEH_tot_dur             LEH_tot_dur_byage         0.977309\n",
       "dtype: float64"
      ]
     },
     "execution_count": 3,
     "metadata": {},
     "output_type": "execute_result"
    }
   ],
   "source": [
    "# Computes the absolute value of the correlation matrix for the training features with protected attributes\n",
    "corrM = X_train_f.corr().abs() # Corr matrix of X\n",
    "corrM = corrM.unstack() # flatten\n",
    "corrMo = corrM.sort_values(kind = \"quicksort\") # sort correlations\n",
    "corrMo[corrMo < 1].tail(20) # Filters out the self-correlations (which equal 1) and prints the last 20 entries (lowest correlations)\n",
    "\n",
    "# to spot which features (including protected‐attribute proxies) are most strongly correlated, so I can \n",
    "# watch out for multicollinearity or fairness-related leakage"
   ]
  },
  {
   "cell_type": "code",
   "execution_count": 59,
   "id": "b6d8d737",
   "metadata": {},
   "outputs": [],
   "source": [
    "tscv = TimeSeriesSplit(4) # Create splits by year"
   ]
  },
  {
   "cell_type": "code",
   "execution_count": 60,
   "id": "d4261ce0",
   "metadata": {},
   "outputs": [
    {
     "name": "stdout",
     "output_type": "stream",
     "text": [
      "TRAIN: [   0    1    2 ... 4997 4998 4999] TEST: [5000 5001 5002 ... 9997 9998 9999]\n",
      "TRAIN: [   0    1    2 ... 9997 9998 9999] TEST: [10000 10001 10002 ... 14997 14998 14999]\n",
      "TRAIN: [    0     1     2 ... 14997 14998 14999] TEST: [15000 15001 15002 ... 19997 19998 19999]\n",
      "TRAIN: [    0     1     2 ... 19997 19998 19999] TEST: [20000 20001 20002 ... 24997 24998 24999]\n"
     ]
    }
   ],
   "source": [
    "for train_index, test_index in tscv.split(X_train_f):\n",
    "    print(\"TRAIN:\", train_index, \"TEST:\", test_index)"
   ]
  },
  {
   "cell_type": "code",
   "execution_count": 73,
   "id": "b87e3a0a",
   "metadata": {},
   "outputs": [],
   "source": [
    "custom_precision25 = make_scorer(precision_at_k, needs_proba = True, k = 0.25) # Precision at top 25%\n",
    "custom_precision10 = make_scorer(precision_at_k, needs_proba = True, k = 0.10) # Precision at top 10%\n",
    "\n",
    "custom_recall25 = make_scorer(recall_at_k, needs_proba = True, k = 0.25) # Recall at top 25%\n",
    "custom_recall10 = make_scorer(recall_at_k, needs_proba = True, k = 0.10) # Recall at top 10%"
   ]
  },
  {
   "cell_type": "code",
   "execution_count": 74,
   "id": "ed737cdc",
   "metadata": {},
   "outputs": [],
   "source": [
    "score = {'log_loss': 'neg_log_loss',\n",
    "         'auc': 'roc_auc',\n",
    "         'precision': 'precision', # uses default model threshold of 0.5\n",
    "         'recall': 'recall',\n",
    "         'precision_at_k25': custom_precision25, # uses custom threshold \n",
    "         'recall_at_k25': custom_recall25,\n",
    "         'precision_at_k10': custom_precision10,\n",
    "         'recall_at_k10': custom_recall10}"
   ]
  },
  {
   "cell_type": "markdown",
   "id": "5ea6157e",
   "metadata": {},
   "source": [
    "## 01 Logit Regression (w. protected attributes)"
   ]
  },
  {
   "cell_type": "code",
   "execution_count": null,
   "id": "bda0c643",
   "metadata": {},
   "outputs": [
    {
     "name": "stderr",
     "output_type": "stream",
     "text": [
      "/Users/julia/Desktop/CMA_Fairness/cma_f/lib/python3.11/site-packages/sklearn/linear_model/_logistic.py:465: ConvergenceWarning: lbfgs failed to converge (status=1):\n",
      "STOP: TOTAL NO. OF ITERATIONS REACHED LIMIT.\n",
      "\n",
      "Increase the number of iterations (max_iter) or scale the data as shown in:\n",
      "    https://scikit-learn.org/stable/modules/preprocessing.html\n",
      "Please also refer to the documentation for alternative solver options:\n",
      "    https://scikit-learn.org/stable/modules/linear_model.html#logistic-regression\n",
      "  n_iter_i = _check_optimize_result(\n"
     ]
    },
    {
     "data": {
      "text/html": [
       "<style>#sk-container-id-5 {\n",
       "  /* Definition of color scheme common for light and dark mode */\n",
       "  --sklearn-color-text: #000;\n",
       "  --sklearn-color-text-muted: #666;\n",
       "  --sklearn-color-line: gray;\n",
       "  /* Definition of color scheme for unfitted estimators */\n",
       "  --sklearn-color-unfitted-level-0: #fff5e6;\n",
       "  --sklearn-color-unfitted-level-1: #f6e4d2;\n",
       "  --sklearn-color-unfitted-level-2: #ffe0b3;\n",
       "  --sklearn-color-unfitted-level-3: chocolate;\n",
       "  /* Definition of color scheme for fitted estimators */\n",
       "  --sklearn-color-fitted-level-0: #f0f8ff;\n",
       "  --sklearn-color-fitted-level-1: #d4ebff;\n",
       "  --sklearn-color-fitted-level-2: #b3dbfd;\n",
       "  --sklearn-color-fitted-level-3: cornflowerblue;\n",
       "\n",
       "  /* Specific color for light theme */\n",
       "  --sklearn-color-text-on-default-background: var(--sg-text-color, var(--theme-code-foreground, var(--jp-content-font-color1, black)));\n",
       "  --sklearn-color-background: var(--sg-background-color, var(--theme-background, var(--jp-layout-color0, white)));\n",
       "  --sklearn-color-border-box: var(--sg-text-color, var(--theme-code-foreground, var(--jp-content-font-color1, black)));\n",
       "  --sklearn-color-icon: #696969;\n",
       "\n",
       "  @media (prefers-color-scheme: dark) {\n",
       "    /* Redefinition of color scheme for dark theme */\n",
       "    --sklearn-color-text-on-default-background: var(--sg-text-color, var(--theme-code-foreground, var(--jp-content-font-color1, white)));\n",
       "    --sklearn-color-background: var(--sg-background-color, var(--theme-background, var(--jp-layout-color0, #111)));\n",
       "    --sklearn-color-border-box: var(--sg-text-color, var(--theme-code-foreground, var(--jp-content-font-color1, white)));\n",
       "    --sklearn-color-icon: #878787;\n",
       "  }\n",
       "}\n",
       "\n",
       "#sk-container-id-5 {\n",
       "  color: var(--sklearn-color-text);\n",
       "}\n",
       "\n",
       "#sk-container-id-5 pre {\n",
       "  padding: 0;\n",
       "}\n",
       "\n",
       "#sk-container-id-5 input.sk-hidden--visually {\n",
       "  border: 0;\n",
       "  clip: rect(1px 1px 1px 1px);\n",
       "  clip: rect(1px, 1px, 1px, 1px);\n",
       "  height: 1px;\n",
       "  margin: -1px;\n",
       "  overflow: hidden;\n",
       "  padding: 0;\n",
       "  position: absolute;\n",
       "  width: 1px;\n",
       "}\n",
       "\n",
       "#sk-container-id-5 div.sk-dashed-wrapped {\n",
       "  border: 1px dashed var(--sklearn-color-line);\n",
       "  margin: 0 0.4em 0.5em 0.4em;\n",
       "  box-sizing: border-box;\n",
       "  padding-bottom: 0.4em;\n",
       "  background-color: var(--sklearn-color-background);\n",
       "}\n",
       "\n",
       "#sk-container-id-5 div.sk-container {\n",
       "  /* jupyter's `normalize.less` sets `[hidden] { display: none; }`\n",
       "     but bootstrap.min.css set `[hidden] { display: none !important; }`\n",
       "     so we also need the `!important` here to be able to override the\n",
       "     default hidden behavior on the sphinx rendered scikit-learn.org.\n",
       "     See: https://github.com/scikit-learn/scikit-learn/issues/21755 */\n",
       "  display: inline-block !important;\n",
       "  position: relative;\n",
       "}\n",
       "\n",
       "#sk-container-id-5 div.sk-text-repr-fallback {\n",
       "  display: none;\n",
       "}\n",
       "\n",
       "div.sk-parallel-item,\n",
       "div.sk-serial,\n",
       "div.sk-item {\n",
       "  /* draw centered vertical line to link estimators */\n",
       "  background-image: linear-gradient(var(--sklearn-color-text-on-default-background), var(--sklearn-color-text-on-default-background));\n",
       "  background-size: 2px 100%;\n",
       "  background-repeat: no-repeat;\n",
       "  background-position: center center;\n",
       "}\n",
       "\n",
       "/* Parallel-specific style estimator block */\n",
       "\n",
       "#sk-container-id-5 div.sk-parallel-item::after {\n",
       "  content: \"\";\n",
       "  width: 100%;\n",
       "  border-bottom: 2px solid var(--sklearn-color-text-on-default-background);\n",
       "  flex-grow: 1;\n",
       "}\n",
       "\n",
       "#sk-container-id-5 div.sk-parallel {\n",
       "  display: flex;\n",
       "  align-items: stretch;\n",
       "  justify-content: center;\n",
       "  background-color: var(--sklearn-color-background);\n",
       "  position: relative;\n",
       "}\n",
       "\n",
       "#sk-container-id-5 div.sk-parallel-item {\n",
       "  display: flex;\n",
       "  flex-direction: column;\n",
       "}\n",
       "\n",
       "#sk-container-id-5 div.sk-parallel-item:first-child::after {\n",
       "  align-self: flex-end;\n",
       "  width: 50%;\n",
       "}\n",
       "\n",
       "#sk-container-id-5 div.sk-parallel-item:last-child::after {\n",
       "  align-self: flex-start;\n",
       "  width: 50%;\n",
       "}\n",
       "\n",
       "#sk-container-id-5 div.sk-parallel-item:only-child::after {\n",
       "  width: 0;\n",
       "}\n",
       "\n",
       "/* Serial-specific style estimator block */\n",
       "\n",
       "#sk-container-id-5 div.sk-serial {\n",
       "  display: flex;\n",
       "  flex-direction: column;\n",
       "  align-items: center;\n",
       "  background-color: var(--sklearn-color-background);\n",
       "  padding-right: 1em;\n",
       "  padding-left: 1em;\n",
       "}\n",
       "\n",
       "\n",
       "/* Toggleable style: style used for estimator/Pipeline/ColumnTransformer box that is\n",
       "clickable and can be expanded/collapsed.\n",
       "- Pipeline and ColumnTransformer use this feature and define the default style\n",
       "- Estimators will overwrite some part of the style using the `sk-estimator` class\n",
       "*/\n",
       "\n",
       "/* Pipeline and ColumnTransformer style (default) */\n",
       "\n",
       "#sk-container-id-5 div.sk-toggleable {\n",
       "  /* Default theme specific background. It is overwritten whether we have a\n",
       "  specific estimator or a Pipeline/ColumnTransformer */\n",
       "  background-color: var(--sklearn-color-background);\n",
       "}\n",
       "\n",
       "/* Toggleable label */\n",
       "#sk-container-id-5 label.sk-toggleable__label {\n",
       "  cursor: pointer;\n",
       "  display: flex;\n",
       "  width: 100%;\n",
       "  margin-bottom: 0;\n",
       "  padding: 0.5em;\n",
       "  box-sizing: border-box;\n",
       "  text-align: center;\n",
       "  align-items: start;\n",
       "  justify-content: space-between;\n",
       "  gap: 0.5em;\n",
       "}\n",
       "\n",
       "#sk-container-id-5 label.sk-toggleable__label .caption {\n",
       "  font-size: 0.6rem;\n",
       "  font-weight: lighter;\n",
       "  color: var(--sklearn-color-text-muted);\n",
       "}\n",
       "\n",
       "#sk-container-id-5 label.sk-toggleable__label-arrow:before {\n",
       "  /* Arrow on the left of the label */\n",
       "  content: \"▸\";\n",
       "  float: left;\n",
       "  margin-right: 0.25em;\n",
       "  color: var(--sklearn-color-icon);\n",
       "}\n",
       "\n",
       "#sk-container-id-5 label.sk-toggleable__label-arrow:hover:before {\n",
       "  color: var(--sklearn-color-text);\n",
       "}\n",
       "\n",
       "/* Toggleable content - dropdown */\n",
       "\n",
       "#sk-container-id-5 div.sk-toggleable__content {\n",
       "  max-height: 0;\n",
       "  max-width: 0;\n",
       "  overflow: hidden;\n",
       "  text-align: left;\n",
       "  /* unfitted */\n",
       "  background-color: var(--sklearn-color-unfitted-level-0);\n",
       "}\n",
       "\n",
       "#sk-container-id-5 div.sk-toggleable__content.fitted {\n",
       "  /* fitted */\n",
       "  background-color: var(--sklearn-color-fitted-level-0);\n",
       "}\n",
       "\n",
       "#sk-container-id-5 div.sk-toggleable__content pre {\n",
       "  margin: 0.2em;\n",
       "  border-radius: 0.25em;\n",
       "  color: var(--sklearn-color-text);\n",
       "  /* unfitted */\n",
       "  background-color: var(--sklearn-color-unfitted-level-0);\n",
       "}\n",
       "\n",
       "#sk-container-id-5 div.sk-toggleable__content.fitted pre {\n",
       "  /* unfitted */\n",
       "  background-color: var(--sklearn-color-fitted-level-0);\n",
       "}\n",
       "\n",
       "#sk-container-id-5 input.sk-toggleable__control:checked~div.sk-toggleable__content {\n",
       "  /* Expand drop-down */\n",
       "  max-height: 200px;\n",
       "  max-width: 100%;\n",
       "  overflow: auto;\n",
       "}\n",
       "\n",
       "#sk-container-id-5 input.sk-toggleable__control:checked~label.sk-toggleable__label-arrow:before {\n",
       "  content: \"▾\";\n",
       "}\n",
       "\n",
       "/* Pipeline/ColumnTransformer-specific style */\n",
       "\n",
       "#sk-container-id-5 div.sk-label input.sk-toggleable__control:checked~label.sk-toggleable__label {\n",
       "  color: var(--sklearn-color-text);\n",
       "  background-color: var(--sklearn-color-unfitted-level-2);\n",
       "}\n",
       "\n",
       "#sk-container-id-5 div.sk-label.fitted input.sk-toggleable__control:checked~label.sk-toggleable__label {\n",
       "  background-color: var(--sklearn-color-fitted-level-2);\n",
       "}\n",
       "\n",
       "/* Estimator-specific style */\n",
       "\n",
       "/* Colorize estimator box */\n",
       "#sk-container-id-5 div.sk-estimator input.sk-toggleable__control:checked~label.sk-toggleable__label {\n",
       "  /* unfitted */\n",
       "  background-color: var(--sklearn-color-unfitted-level-2);\n",
       "}\n",
       "\n",
       "#sk-container-id-5 div.sk-estimator.fitted input.sk-toggleable__control:checked~label.sk-toggleable__label {\n",
       "  /* fitted */\n",
       "  background-color: var(--sklearn-color-fitted-level-2);\n",
       "}\n",
       "\n",
       "#sk-container-id-5 div.sk-label label.sk-toggleable__label,\n",
       "#sk-container-id-5 div.sk-label label {\n",
       "  /* The background is the default theme color */\n",
       "  color: var(--sklearn-color-text-on-default-background);\n",
       "}\n",
       "\n",
       "/* On hover, darken the color of the background */\n",
       "#sk-container-id-5 div.sk-label:hover label.sk-toggleable__label {\n",
       "  color: var(--sklearn-color-text);\n",
       "  background-color: var(--sklearn-color-unfitted-level-2);\n",
       "}\n",
       "\n",
       "/* Label box, darken color on hover, fitted */\n",
       "#sk-container-id-5 div.sk-label.fitted:hover label.sk-toggleable__label.fitted {\n",
       "  color: var(--sklearn-color-text);\n",
       "  background-color: var(--sklearn-color-fitted-level-2);\n",
       "}\n",
       "\n",
       "/* Estimator label */\n",
       "\n",
       "#sk-container-id-5 div.sk-label label {\n",
       "  font-family: monospace;\n",
       "  font-weight: bold;\n",
       "  display: inline-block;\n",
       "  line-height: 1.2em;\n",
       "}\n",
       "\n",
       "#sk-container-id-5 div.sk-label-container {\n",
       "  text-align: center;\n",
       "}\n",
       "\n",
       "/* Estimator-specific */\n",
       "#sk-container-id-5 div.sk-estimator {\n",
       "  font-family: monospace;\n",
       "  border: 1px dotted var(--sklearn-color-border-box);\n",
       "  border-radius: 0.25em;\n",
       "  box-sizing: border-box;\n",
       "  margin-bottom: 0.5em;\n",
       "  /* unfitted */\n",
       "  background-color: var(--sklearn-color-unfitted-level-0);\n",
       "}\n",
       "\n",
       "#sk-container-id-5 div.sk-estimator.fitted {\n",
       "  /* fitted */\n",
       "  background-color: var(--sklearn-color-fitted-level-0);\n",
       "}\n",
       "\n",
       "/* on hover */\n",
       "#sk-container-id-5 div.sk-estimator:hover {\n",
       "  /* unfitted */\n",
       "  background-color: var(--sklearn-color-unfitted-level-2);\n",
       "}\n",
       "\n",
       "#sk-container-id-5 div.sk-estimator.fitted:hover {\n",
       "  /* fitted */\n",
       "  background-color: var(--sklearn-color-fitted-level-2);\n",
       "}\n",
       "\n",
       "/* Specification for estimator info (e.g. \"i\" and \"?\") */\n",
       "\n",
       "/* Common style for \"i\" and \"?\" */\n",
       "\n",
       ".sk-estimator-doc-link,\n",
       "a:link.sk-estimator-doc-link,\n",
       "a:visited.sk-estimator-doc-link {\n",
       "  float: right;\n",
       "  font-size: smaller;\n",
       "  line-height: 1em;\n",
       "  font-family: monospace;\n",
       "  background-color: var(--sklearn-color-background);\n",
       "  border-radius: 1em;\n",
       "  height: 1em;\n",
       "  width: 1em;\n",
       "  text-decoration: none !important;\n",
       "  margin-left: 0.5em;\n",
       "  text-align: center;\n",
       "  /* unfitted */\n",
       "  border: var(--sklearn-color-unfitted-level-1) 1pt solid;\n",
       "  color: var(--sklearn-color-unfitted-level-1);\n",
       "}\n",
       "\n",
       ".sk-estimator-doc-link.fitted,\n",
       "a:link.sk-estimator-doc-link.fitted,\n",
       "a:visited.sk-estimator-doc-link.fitted {\n",
       "  /* fitted */\n",
       "  border: var(--sklearn-color-fitted-level-1) 1pt solid;\n",
       "  color: var(--sklearn-color-fitted-level-1);\n",
       "}\n",
       "\n",
       "/* On hover */\n",
       "div.sk-estimator:hover .sk-estimator-doc-link:hover,\n",
       ".sk-estimator-doc-link:hover,\n",
       "div.sk-label-container:hover .sk-estimator-doc-link:hover,\n",
       ".sk-estimator-doc-link:hover {\n",
       "  /* unfitted */\n",
       "  background-color: var(--sklearn-color-unfitted-level-3);\n",
       "  color: var(--sklearn-color-background);\n",
       "  text-decoration: none;\n",
       "}\n",
       "\n",
       "div.sk-estimator.fitted:hover .sk-estimator-doc-link.fitted:hover,\n",
       ".sk-estimator-doc-link.fitted:hover,\n",
       "div.sk-label-container:hover .sk-estimator-doc-link.fitted:hover,\n",
       ".sk-estimator-doc-link.fitted:hover {\n",
       "  /* fitted */\n",
       "  background-color: var(--sklearn-color-fitted-level-3);\n",
       "  color: var(--sklearn-color-background);\n",
       "  text-decoration: none;\n",
       "}\n",
       "\n",
       "/* Span, style for the box shown on hovering the info icon */\n",
       ".sk-estimator-doc-link span {\n",
       "  display: none;\n",
       "  z-index: 9999;\n",
       "  position: relative;\n",
       "  font-weight: normal;\n",
       "  right: .2ex;\n",
       "  padding: .5ex;\n",
       "  margin: .5ex;\n",
       "  width: min-content;\n",
       "  min-width: 20ex;\n",
       "  max-width: 50ex;\n",
       "  color: var(--sklearn-color-text);\n",
       "  box-shadow: 2pt 2pt 4pt #999;\n",
       "  /* unfitted */\n",
       "  background: var(--sklearn-color-unfitted-level-0);\n",
       "  border: .5pt solid var(--sklearn-color-unfitted-level-3);\n",
       "}\n",
       "\n",
       ".sk-estimator-doc-link.fitted span {\n",
       "  /* fitted */\n",
       "  background: var(--sklearn-color-fitted-level-0);\n",
       "  border: var(--sklearn-color-fitted-level-3);\n",
       "}\n",
       "\n",
       ".sk-estimator-doc-link:hover span {\n",
       "  display: block;\n",
       "}\n",
       "\n",
       "/* \"?\"-specific style due to the `<a>` HTML tag */\n",
       "\n",
       "#sk-container-id-5 a.estimator_doc_link {\n",
       "  float: right;\n",
       "  font-size: 1rem;\n",
       "  line-height: 1em;\n",
       "  font-family: monospace;\n",
       "  background-color: var(--sklearn-color-background);\n",
       "  border-radius: 1rem;\n",
       "  height: 1rem;\n",
       "  width: 1rem;\n",
       "  text-decoration: none;\n",
       "  /* unfitted */\n",
       "  color: var(--sklearn-color-unfitted-level-1);\n",
       "  border: var(--sklearn-color-unfitted-level-1) 1pt solid;\n",
       "}\n",
       "\n",
       "#sk-container-id-5 a.estimator_doc_link.fitted {\n",
       "  /* fitted */\n",
       "  border: var(--sklearn-color-fitted-level-1) 1pt solid;\n",
       "  color: var(--sklearn-color-fitted-level-1);\n",
       "}\n",
       "\n",
       "/* On hover */\n",
       "#sk-container-id-5 a.estimator_doc_link:hover {\n",
       "  /* unfitted */\n",
       "  background-color: var(--sklearn-color-unfitted-level-3);\n",
       "  color: var(--sklearn-color-background);\n",
       "  text-decoration: none;\n",
       "}\n",
       "\n",
       "#sk-container-id-5 a.estimator_doc_link.fitted:hover {\n",
       "  /* fitted */\n",
       "  background-color: var(--sklearn-color-fitted-level-3);\n",
       "}\n",
       "</style><div id=\"sk-container-id-5\" class=\"sk-top-container\"><div class=\"sk-text-repr-fallback\"><pre>LogisticRegression(max_iter=10000, penalty=None)</pre><b>In a Jupyter environment, please rerun this cell to show the HTML representation or trust the notebook. <br />On GitHub, the HTML representation is unable to render, please try loading this page with nbviewer.org.</b></div><div class=\"sk-container\" hidden><div class=\"sk-item\"><div class=\"sk-estimator fitted sk-toggleable\"><input class=\"sk-toggleable__control sk-hidden--visually\" id=\"sk-estimator-id-5\" type=\"checkbox\" checked><label for=\"sk-estimator-id-5\" class=\"sk-toggleable__label fitted sk-toggleable__label-arrow\"><div><div>LogisticRegression</div></div><div><a class=\"sk-estimator-doc-link fitted\" rel=\"noreferrer\" target=\"_blank\" href=\"https://scikit-learn.org/1.6/modules/generated/sklearn.linear_model.LogisticRegression.html\">?<span>Documentation for LogisticRegression</span></a><span class=\"sk-estimator-doc-link fitted\">i<span>Fitted</span></span></div></label><div class=\"sk-toggleable__content fitted\"><pre>LogisticRegression(max_iter=10000, penalty=None)</pre></div> </div></div></div></div>"
      ],
      "text/plain": [
       "LogisticRegression(max_iter=10000, penalty=None)"
      ]
     },
     "execution_count": 71,
     "metadata": {},
     "output_type": "execute_result"
    }
   ],
   "source": [
    "glm1 = LogisticRegression(penalty = None, solver = 'lbfgs', max_iter = 1000)\n",
    "glm1.fit(X_train_f, y_train)"
   ]
  },
  {
   "cell_type": "code",
   "execution_count": 75,
   "id": "e9c6bdd0",
   "metadata": {},
   "outputs": [
    {
     "name": "stderr",
     "output_type": "stream",
     "text": [
      "/Users/julia/Desktop/CMA_Fairness/cma_f/lib/python3.11/site-packages/sklearn/linear_model/_logistic.py:465: ConvergenceWarning: lbfgs failed to converge (status=1):\n",
      "STOP: TOTAL NO. OF ITERATIONS REACHED LIMIT.\n",
      "\n",
      "Increase the number of iterations (max_iter) or scale the data as shown in:\n",
      "    https://scikit-learn.org/stable/modules/preprocessing.html\n",
      "Please also refer to the documentation for alternative solver options:\n",
      "    https://scikit-learn.org/stable/modules/linear_model.html#logistic-regression\n",
      "  n_iter_i = _check_optimize_result(\n",
      "/Users/julia/Desktop/CMA_Fairness/cma_f/lib/python3.11/site-packages/sklearn/model_selection/_validation.py:978: UserWarning: Scoring failed. The score on this train-test partition for these parameters will be set to nan. Details: \n",
      "Traceback (most recent call last):\n",
      "  File \"/Users/julia/Desktop/CMA_Fairness/cma_f/lib/python3.11/site-packages/sklearn/metrics/_scorer.py\", line 140, in __call__\n",
      "    score = scorer._score(\n",
      "            ^^^^^^^^^^^^^^\n",
      "  File \"/Users/julia/Desktop/CMA_Fairness/cma_f/lib/python3.11/site-packages/sklearn/metrics/_scorer.py\", line 388, in _score\n",
      "    return self._sign * self._score_func(y_true, y_pred, **scoring_kwargs)\n",
      "                        ^^^^^^^^^^^^^^^^^^^^^^^^^^^^^^^^^^^^^^^^^^^^^^^^^^\n",
      "TypeError: precision_at_k() got an unexpected keyword argument 'needs_proba'\n",
      "\n",
      "  warnings.warn(\n",
      "/Users/julia/Desktop/CMA_Fairness/cma_f/lib/python3.11/site-packages/sklearn/model_selection/_validation.py:978: UserWarning: Scoring failed. The score on this train-test partition for these parameters will be set to nan. Details: \n",
      "Traceback (most recent call last):\n",
      "  File \"/Users/julia/Desktop/CMA_Fairness/cma_f/lib/python3.11/site-packages/sklearn/metrics/_scorer.py\", line 140, in __call__\n",
      "    score = scorer._score(\n",
      "            ^^^^^^^^^^^^^^\n",
      "  File \"/Users/julia/Desktop/CMA_Fairness/cma_f/lib/python3.11/site-packages/sklearn/metrics/_scorer.py\", line 388, in _score\n",
      "    return self._sign * self._score_func(y_true, y_pred, **scoring_kwargs)\n",
      "                        ^^^^^^^^^^^^^^^^^^^^^^^^^^^^^^^^^^^^^^^^^^^^^^^^^^\n",
      "TypeError: recall_at_k() got an unexpected keyword argument 'needs_proba'\n",
      "\n",
      "  warnings.warn(\n",
      "/Users/julia/Desktop/CMA_Fairness/cma_f/lib/python3.11/site-packages/sklearn/linear_model/_logistic.py:465: ConvergenceWarning: lbfgs failed to converge (status=1):\n",
      "STOP: TOTAL NO. OF ITERATIONS REACHED LIMIT.\n",
      "\n",
      "Increase the number of iterations (max_iter) or scale the data as shown in:\n",
      "    https://scikit-learn.org/stable/modules/preprocessing.html\n",
      "Please also refer to the documentation for alternative solver options:\n",
      "    https://scikit-learn.org/stable/modules/linear_model.html#logistic-regression\n",
      "  n_iter_i = _check_optimize_result(\n",
      "/Users/julia/Desktop/CMA_Fairness/cma_f/lib/python3.11/site-packages/sklearn/model_selection/_validation.py:978: UserWarning: Scoring failed. The score on this train-test partition for these parameters will be set to nan. Details: \n",
      "Traceback (most recent call last):\n",
      "  File \"/Users/julia/Desktop/CMA_Fairness/cma_f/lib/python3.11/site-packages/sklearn/metrics/_scorer.py\", line 140, in __call__\n",
      "    score = scorer._score(\n",
      "            ^^^^^^^^^^^^^^\n",
      "  File \"/Users/julia/Desktop/CMA_Fairness/cma_f/lib/python3.11/site-packages/sklearn/metrics/_scorer.py\", line 388, in _score\n",
      "    return self._sign * self._score_func(y_true, y_pred, **scoring_kwargs)\n",
      "                        ^^^^^^^^^^^^^^^^^^^^^^^^^^^^^^^^^^^^^^^^^^^^^^^^^^\n",
      "TypeError: precision_at_k() got an unexpected keyword argument 'needs_proba'\n",
      "\n",
      "  warnings.warn(\n",
      "/Users/julia/Desktop/CMA_Fairness/cma_f/lib/python3.11/site-packages/sklearn/model_selection/_validation.py:978: UserWarning: Scoring failed. The score on this train-test partition for these parameters will be set to nan. Details: \n",
      "Traceback (most recent call last):\n",
      "  File \"/Users/julia/Desktop/CMA_Fairness/cma_f/lib/python3.11/site-packages/sklearn/metrics/_scorer.py\", line 140, in __call__\n",
      "    score = scorer._score(\n",
      "            ^^^^^^^^^^^^^^\n",
      "  File \"/Users/julia/Desktop/CMA_Fairness/cma_f/lib/python3.11/site-packages/sklearn/metrics/_scorer.py\", line 388, in _score\n",
      "    return self._sign * self._score_func(y_true, y_pred, **scoring_kwargs)\n",
      "                        ^^^^^^^^^^^^^^^^^^^^^^^^^^^^^^^^^^^^^^^^^^^^^^^^^^\n",
      "TypeError: recall_at_k() got an unexpected keyword argument 'needs_proba'\n",
      "\n",
      "  warnings.warn(\n",
      "/Users/julia/Desktop/CMA_Fairness/cma_f/lib/python3.11/site-packages/sklearn/linear_model/_logistic.py:465: ConvergenceWarning: lbfgs failed to converge (status=1):\n",
      "STOP: TOTAL NO. OF ITERATIONS REACHED LIMIT.\n",
      "\n",
      "Increase the number of iterations (max_iter) or scale the data as shown in:\n",
      "    https://scikit-learn.org/stable/modules/preprocessing.html\n",
      "Please also refer to the documentation for alternative solver options:\n",
      "    https://scikit-learn.org/stable/modules/linear_model.html#logistic-regression\n",
      "  n_iter_i = _check_optimize_result(\n",
      "/Users/julia/Desktop/CMA_Fairness/cma_f/lib/python3.11/site-packages/sklearn/model_selection/_validation.py:978: UserWarning: Scoring failed. The score on this train-test partition for these parameters will be set to nan. Details: \n",
      "Traceback (most recent call last):\n",
      "  File \"/Users/julia/Desktop/CMA_Fairness/cma_f/lib/python3.11/site-packages/sklearn/metrics/_scorer.py\", line 140, in __call__\n",
      "    score = scorer._score(\n",
      "            ^^^^^^^^^^^^^^\n",
      "  File \"/Users/julia/Desktop/CMA_Fairness/cma_f/lib/python3.11/site-packages/sklearn/metrics/_scorer.py\", line 388, in _score\n",
      "    return self._sign * self._score_func(y_true, y_pred, **scoring_kwargs)\n",
      "                        ^^^^^^^^^^^^^^^^^^^^^^^^^^^^^^^^^^^^^^^^^^^^^^^^^^\n",
      "TypeError: precision_at_k() got an unexpected keyword argument 'needs_proba'\n",
      "\n",
      "  warnings.warn(\n",
      "/Users/julia/Desktop/CMA_Fairness/cma_f/lib/python3.11/site-packages/sklearn/model_selection/_validation.py:978: UserWarning: Scoring failed. The score on this train-test partition for these parameters will be set to nan. Details: \n",
      "Traceback (most recent call last):\n",
      "  File \"/Users/julia/Desktop/CMA_Fairness/cma_f/lib/python3.11/site-packages/sklearn/metrics/_scorer.py\", line 140, in __call__\n",
      "    score = scorer._score(\n",
      "            ^^^^^^^^^^^^^^\n",
      "  File \"/Users/julia/Desktop/CMA_Fairness/cma_f/lib/python3.11/site-packages/sklearn/metrics/_scorer.py\", line 388, in _score\n",
      "    return self._sign * self._score_func(y_true, y_pred, **scoring_kwargs)\n",
      "                        ^^^^^^^^^^^^^^^^^^^^^^^^^^^^^^^^^^^^^^^^^^^^^^^^^^\n",
      "TypeError: recall_at_k() got an unexpected keyword argument 'needs_proba'\n",
      "\n",
      "  warnings.warn(\n",
      "/Users/julia/Desktop/CMA_Fairness/cma_f/lib/python3.11/site-packages/sklearn/linear_model/_logistic.py:465: ConvergenceWarning: lbfgs failed to converge (status=1):\n",
      "STOP: TOTAL NO. OF ITERATIONS REACHED LIMIT.\n",
      "\n",
      "Increase the number of iterations (max_iter) or scale the data as shown in:\n",
      "    https://scikit-learn.org/stable/modules/preprocessing.html\n",
      "Please also refer to the documentation for alternative solver options:\n",
      "    https://scikit-learn.org/stable/modules/linear_model.html#logistic-regression\n",
      "  n_iter_i = _check_optimize_result(\n",
      "/Users/julia/Desktop/CMA_Fairness/cma_f/lib/python3.11/site-packages/sklearn/model_selection/_validation.py:978: UserWarning: Scoring failed. The score on this train-test partition for these parameters will be set to nan. Details: \n",
      "Traceback (most recent call last):\n",
      "  File \"/Users/julia/Desktop/CMA_Fairness/cma_f/lib/python3.11/site-packages/sklearn/metrics/_scorer.py\", line 140, in __call__\n",
      "    score = scorer._score(\n",
      "            ^^^^^^^^^^^^^^\n",
      "  File \"/Users/julia/Desktop/CMA_Fairness/cma_f/lib/python3.11/site-packages/sklearn/metrics/_scorer.py\", line 388, in _score\n",
      "    return self._sign * self._score_func(y_true, y_pred, **scoring_kwargs)\n",
      "                        ^^^^^^^^^^^^^^^^^^^^^^^^^^^^^^^^^^^^^^^^^^^^^^^^^^\n",
      "TypeError: precision_at_k() got an unexpected keyword argument 'needs_proba'\n",
      "\n",
      "  warnings.warn(\n",
      "/Users/julia/Desktop/CMA_Fairness/cma_f/lib/python3.11/site-packages/sklearn/model_selection/_validation.py:978: UserWarning: Scoring failed. The score on this train-test partition for these parameters will be set to nan. Details: \n",
      "Traceback (most recent call last):\n",
      "  File \"/Users/julia/Desktop/CMA_Fairness/cma_f/lib/python3.11/site-packages/sklearn/metrics/_scorer.py\", line 140, in __call__\n",
      "    score = scorer._score(\n",
      "            ^^^^^^^^^^^^^^\n",
      "  File \"/Users/julia/Desktop/CMA_Fairness/cma_f/lib/python3.11/site-packages/sklearn/metrics/_scorer.py\", line 388, in _score\n",
      "    return self._sign * self._score_func(y_true, y_pred, **scoring_kwargs)\n",
      "                        ^^^^^^^^^^^^^^^^^^^^^^^^^^^^^^^^^^^^^^^^^^^^^^^^^^\n",
      "TypeError: recall_at_k() got an unexpected keyword argument 'needs_proba'\n",
      "\n",
      "  warnings.warn(\n"
     ]
    }
   ],
   "source": [
    "glmcv1 = cross_validate(estimator = glm1, \n",
    "                       X = X_train_f,\n",
    "                       y = y_train,\n",
    "                       cv = tscv,\n",
    "                       n_jobs = -1, # use all available cores\n",
    "                       scoring = score)"
   ]
  },
  {
   "cell_type": "code",
   "execution_count": 5,
   "id": "79ea626d",
   "metadata": {},
   "outputs": [],
   "source": [
    "coefs1 = pd.DataFrame(X_train_f.columns, columns = ['var'])\n",
    "coefs1['coef'] = pd.DataFrame(glm1.coef_).transpose()\n",
    "\n",
    "# Build a DataFrame of feature names + their learned coefficients, to inspect which variables \n",
    "# (including protected attrs) the model weights most heavily."
   ]
  },
  {
   "cell_type": "code",
   "execution_count": 6,
   "id": "196b76e9",
   "metadata": {},
   "outputs": [
    {
     "data": {
      "text/plain": [
       "['./models/glm1.joblib']"
      ]
     },
     "execution_count": 6,
     "metadata": {},
     "output_type": "execute_result"
    }
   ],
   "source": [
    "dump(glm1, './models/glm1.joblib')"
   ]
  },
  {
   "cell_type": "markdown",
   "id": "f9509612",
   "metadata": {},
   "source": [
    "## Predict"
   ]
  },
  {
   "cell_type": "code",
   "execution_count": 7,
   "id": "5e3c0357",
   "metadata": {},
   "outputs": [],
   "source": [
    "k75 = 0.75 # Top 75% \n",
    "k25 = 0.25 # Top 25% \n",
    "k10 = 0.1 # Top 10%"
   ]
  },
  {
   "cell_type": "markdown",
   "id": "77d963f6",
   "metadata": {},
   "source": [
    "# Logit"
   ]
  },
  {
   "cell_type": "code",
   "execution_count": 26,
   "id": "9e6b68cf",
   "metadata": {},
   "outputs": [],
   "source": [
    "glm1_p = glm1.predict_proba(X_test_f)[:,1] # glm1\n",
    "\n",
    "# Generate the predicted probability of the positive class for each test sample"
   ]
  },
  {
   "cell_type": "code",
   "execution_count": 27,
   "id": "3da52b5b",
   "metadata": {},
   "outputs": [],
   "source": [
    "threshold75 = np.sort(glm1_p)[::-1][int(k75*len(glm1_p))]\n",
    "threshold25 = np.sort(glm1_p)[::-1][int(k25*len(glm1_p))]\n",
    "threshold10 = np.sort(glm1_p)[::-1][int(k10*len(glm1_p))] # threshold10 is the score above which only the top 10% of test samples lie"
   ]
  },
  {
   "cell_type": "code",
   "execution_count": 10,
   "id": "1f6e5088",
   "metadata": {},
   "outputs": [],
   "source": [
    "glm1_c1 = glm1_p.copy()\n",
    "glm1_c1[glm1_c1 < threshold10] = 0\n",
    "glm1_c1[glm1_c1 >= threshold10] = 1\n",
    "\n",
    "# Create a binary classification vector where only the top 10% by predicted probability are labeled “1”"
   ]
  },
  {
   "cell_type": "code",
   "execution_count": 11,
   "id": "5c693db5",
   "metadata": {},
   "outputs": [],
   "source": [
    "glm1_c2 = glm1_p.copy()\n",
    "glm1_c2[glm1_c2 < threshold25] = 0\n",
    "glm1_c2[glm1_c2 >= threshold25] = 1"
   ]
  },
  {
   "cell_type": "code",
   "execution_count": 12,
   "id": "6c02ff93",
   "metadata": {},
   "outputs": [],
   "source": [
    "glm1_c3 = glm1_p.copy()\n",
    "glm1_c3[(glm1_c3 <= threshold75) | (glm1_c3 >= threshold25)] = 0\n",
    "glm1_c3[(glm1_c3 > threshold75) & (glm1_c3 < threshold25)] = 1"
   ]
  },
  {
   "cell_type": "markdown",
   "id": "699d561c",
   "metadata": {},
   "source": [
    "## Performance evaluation"
   ]
  },
  {
   "cell_type": "code",
   "execution_count": 13,
   "id": "0ce6795c",
   "metadata": {},
   "outputs": [],
   "source": [
    "from sklearn.metrics import accuracy_score, f1_score, classification_report"
   ]
  },
  {
   "cell_type": "code",
   "execution_count": 14,
   "id": "80c80d8a",
   "metadata": {},
   "outputs": [
    {
     "name": "stdout",
     "output_type": "stream",
     "text": [
      "Top 10%         → Accuracy: 0.836,  F1-score: 0.281\n",
      "Top 25%         → Accuracy: 0.746,  F1-score: 0.329\n",
      "Middle 25–75%   → Accuracy: 0.483,  F1-score: 0.177\n"
     ]
    }
   ],
   "source": [
    "for preds, label in zip(\n",
    "    [glm1_c1, glm1_c2, glm1_c3],\n",
    "    [\"Top 10%\", \"Top 25%\", \"Middle 25–75%\"]\n",
    "):\n",
    "    acc = accuracy_score(y_test, preds)\n",
    "    f1  = f1_score(y_test, preds)\n",
    "    print(f\"{label:15s} → Accuracy: {acc:.3f},  F1-score: {f1:.3f}\")"
   ]
  },
  {
   "cell_type": "markdown",
   "id": "802e105f",
   "metadata": {},
   "source": [
    "## Combine and save"
   ]
  },
  {
   "cell_type": "code",
   "execution_count": 15,
   "id": "ad3d2312",
   "metadata": {},
   "outputs": [
    {
     "data": {
      "text/plain": [
       "'\\nBuild a single DataFrame side by side with:\\n      - The true labels (‘y_test’)\\n      - The raw predicted probabilities (‘glm1_p’)\\n      - Each binary decision vector at different cutoffs (‘glm1_c1’, ‘glm1_c2’, ‘glm1_c3’).\\n'"
      ]
     },
     "execution_count": 15,
     "metadata": {},
     "output_type": "execute_result"
    }
   ],
   "source": [
    "preds_test = pd.concat([pd.DataFrame(np.array(y_test), columns = ['y_test']),\n",
    "                         pd.DataFrame(glm1_p, columns = ['glm1_p']),\n",
    "                         pd.DataFrame(glm1_c1, columns = ['glm1_c1']),\n",
    "                         pd.DataFrame(glm1_c2, columns = ['glm1_c2']),\n",
    "                         pd.DataFrame(glm1_c3, columns = ['glm1_c3'])],\n",
    "                        axis = 1)\n",
    "\n",
    "'''\n",
    "Build a single DataFrame side by side with:\n",
    "      - The true labels (‘y_test’)\n",
    "      - The raw predicted probabilities (‘glm1_p’)\n",
    "      - Each binary decision vector at different cutoffs (‘glm1_c1’, ‘glm1_c2’, ‘glm1_c3’).\n",
    "'''"
   ]
  },
  {
   "cell_type": "code",
   "execution_count": 16,
   "id": "4caba314",
   "metadata": {},
   "outputs": [],
   "source": [
    "preds_test.to_csv('./output/preds_test.csv', index = False)"
   ]
  },
  {
   "cell_type": "markdown",
   "id": "d63572b5",
   "metadata": {},
   "source": [
    "## Conformal"
   ]
  },
  {
   "cell_type": "code",
   "execution_count": 17,
   "id": "316a3649",
   "metadata": {},
   "outputs": [],
   "source": [
    "# Miscoverage level\n",
    "alpha = 0.1"
   ]
  },
  {
   "cell_type": "code",
   "execution_count": 18,
   "id": "e59679ee",
   "metadata": {},
   "outputs": [],
   "source": [
    "# Conformal wrapper functions\n",
    "def compute_nonconformity_scores(probs: np.ndarray, labels: np.ndarray) -> np.ndarray:\n",
    "    \"\"\"\n",
    "    For each calibration example, return 1 - p_true.\n",
    "    probs: array of shape (n_samples, 2)\n",
    "    labels: array of shape (n_samples,) with values in {0, 1}\n",
    "    \"\"\"\n",
    "    p_true = probs[np.arange(len(labels)), labels]\n",
    "    return 1.0 - p_true\n",
    "\n",
    "## ??? Alternative scoring function negative log-probabilites?? \n",
    "\n",
    "\n",
    "def find_threshold(nonconformity: np.ndarray, alpha: float) -> float:\n",
    "    \"\"\"\n",
    "    Return the (1-alpha)-quantile (higher interpolation) of the nonconformity scores.\n",
    "    \"\"\"\n",
    "    return np.quantile(nonconformity, 1 - alpha, interpolation='higher')\n",
    "\n",
    "\n",
    "def predict_conformal_sets(model, X: pd.DataFrame, q_hat: float) -> np.ndarray:\n",
    "    \"\"\"\n",
    "    For each row in X, compute the conformal prediction set.\n",
    "    Returns a list of sets.\n",
    "    \"\"\"\n",
    "    probs = model.predict_proba(X) # shape (n, 2)\n",
    "    nonconf_matrix = 1.0 - probs # shape (n, 2): nonconf score for label = 0, 1\n",
    "    # include c whenver nonconf_matrix[i,c] <= q_hat\n",
    "    return [set(np.where(nc_row <= q_hat)[0]) for nc_row in nonconf_matrix]\n",
    "\n",
    "\n",
    "def evaluate_sets(pred_sets: list, y_true: pd.Series) -> dict:\n",
    "    \"\"\"\n",
    "    Compute empirical coverage and average set size.\n",
    "    \"\"\"\n",
    "    coverage = np.mean([\n",
    "        (y_true.iloc[i] in pred_sets[i])\n",
    "        for i in range(len(y_true))\n",
    "    ])\n",
    "    avg_size = np.mean([len(s) for s in pred_sets])\n",
    "    return {\n",
    "        'coverage': coverage,\n",
    "        'avg_size': avg_size\n",
    "    }\n"
   ]
  },
  {
   "cell_type": "code",
   "execution_count": 19,
   "id": "abedf6df",
   "metadata": {},
   "outputs": [],
   "source": [
    "probs_calib = glm1.predict_proba(X_calib_f)"
   ]
  },
  {
   "cell_type": "code",
   "execution_count": 20,
   "id": "161996fe",
   "metadata": {},
   "outputs": [],
   "source": [
    "nc_scores = compute_nonconformity_scores(probs_calib, y_calib)"
   ]
  },
  {
   "cell_type": "code",
   "execution_count": 21,
   "id": "aa79d185",
   "metadata": {},
   "outputs": [
    {
     "name": "stderr",
     "output_type": "stream",
     "text": [
      "/var/folders/h7/6qcvyjh51cg86vrxn3xs8c_40000gn/T/ipykernel_2779/3779898564.py:1: DeprecationWarning: the `interpolation=` argument to quantile was renamed to `method=`, which has additional options.\n",
      "Users of the modes 'nearest', 'lower', 'higher', or 'midpoint' are encouraged to review the method they used. (Deprecated NumPy 1.22)\n",
      "  q_hat = find_threshold(nc_scores, alpha)\n"
     ]
    }
   ],
   "source": [
    "q_hat = find_threshold(nc_scores, alpha)"
   ]
  },
  {
   "cell_type": "code",
   "execution_count": 46,
   "id": "d618558f",
   "metadata": {},
   "outputs": [],
   "source": [
    "# With test data\n",
    "pred_sets = predict_conformal_sets(glm1, X_test_f, q_hat)"
   ]
  },
  {
   "cell_type": "code",
   "execution_count": 47,
   "id": "c684b86c",
   "metadata": {},
   "outputs": [
    {
     "name": "stdout",
     "output_type": "stream",
     "text": [
      "Coverage: 0.90\n",
      "Avg. set size: 1.13\n"
     ]
    }
   ],
   "source": [
    "# With test data\n",
    "evaluation = evaluate_sets(pred_sets, y_test)\n",
    "print(f\"Coverage: {evaluation['coverage']:.2f}\")\n",
    "print(f\"Avg. set size: {evaluation['avg_size']:.2f}\")"
   ]
  },
  {
   "cell_type": "markdown",
   "id": "6a08bfe7",
   "metadata": {},
   "source": [
    "## Analyzing CP per group"
   ]
  },
  {
   "cell_type": "code",
   "execution_count": 56,
   "id": "8d6cedbf",
   "metadata": {},
   "outputs": [
    {
     "name": "stdout",
     "output_type": "stream",
     "text": [
      "Index alignment not applied (perhaps pred_sets already has correct index): 'list' object attribute 'index' is read-only\n"
     ]
    }
   ],
   "source": [
    "# Ensure pred_sets index aligns with the calibration data index\n",
    "pred_sets = pred_sets.copy()  # Work on a copy to avoid modifying original accidentally\n",
    "try:\n",
    "    pred_sets.index = X_test_f.index  # Align index to calibration data's index\n",
    "except Exception as e:\n",
    "    print(\"Index alignment not applied (perhaps pred_sets already has correct index):\", e)\n",
    "\n",
    "# Now the indices of pred_sets should correspond to the same individuals as cp_groups.\n"
   ]
  },
  {
   "cell_type": "code",
   "execution_count": 48,
   "id": "bbd03cb0",
   "metadata": {},
   "outputs": [],
   "source": [
    "cp_groups = pd.DataFrame({'pred_set': pred_sets})"
   ]
  },
  {
   "cell_type": "code",
   "execution_count": 49,
   "id": "2bdadaf2",
   "metadata": {},
   "outputs": [],
   "source": [
    "cp_groups['pred_set'] = cp_groups['pred_set'].apply(lambda s: {int(x) for x in s})"
   ]
  },
  {
   "cell_type": "code",
   "execution_count": 50,
   "id": "ed3ea5eb",
   "metadata": {},
   "outputs": [],
   "source": [
    "cp_groups['true_label'] = y_test"
   ]
  },
  {
   "cell_type": "code",
   "execution_count": 51,
   "id": "8826d57c",
   "metadata": {},
   "outputs": [],
   "source": [
    "cp_groups['frau1'] = X_test_f['frau1'].values"
   ]
  },
  {
   "cell_type": "code",
   "execution_count": 52,
   "id": "f97881d8",
   "metadata": {},
   "outputs": [],
   "source": [
    "cp_groups['nongerman'] = np.where(X_test_f['maxdeutsch1'] == 0, 1, 0) # creates new column 'nongerman', if maxdeutsch1 == 0 then nongerman = 1, else 0 \n",
    "cp_groups.loc[X_test_f['maxdeutsch.Missing.'] == 1, 'nongerman'] = np.nan # overwrite nongerman with NaN for any row where maxdeutsch.Missing. equals 1\n",
    "cp_groups['nongerman_male'] = np.where((cp_groups['nongerman'] == 1) & (cp_groups['frau1'] == 0), 1, 0)\n",
    "cp_groups['nongerman_female'] = np.where((cp_groups['nongerman'] == 1) & (cp_groups['frau1'] == 1), 1, 0)"
   ]
  },
  {
   "cell_type": "code",
   "execution_count": 53,
   "id": "a5c5b779",
   "metadata": {},
   "outputs": [],
   "source": [
    "# Filter to ambiguous cases\n",
    "ambig = cp_groups[cp_groups['pred_set'].apply(lambda s: set(s) == {0, 1})]"
   ]
  },
  {
   "cell_type": "code",
   "execution_count": 54,
   "id": "443463ab",
   "metadata": {},
   "outputs": [],
   "source": [
    "n_total = len(ambig)\n",
    "\n",
    "n_true_label_1      = (ambig['true_label'] == 1).sum() / n_total\n",
    "n_frau1_1           = (ambig['frau1'] == 1).sum() / n_total\n",
    "n_nongerman_1       = (ambig['nongerman'] == 1).sum() / n_total\n",
    "n_nongerman_male_1  = (ambig['nongerman_male'] == 1).sum() / n_total\n",
    "n_nongerman_female_1= (ambig['nongerman_female'] == 1).sum() / n_total\n"
   ]
  },
  {
   "cell_type": "code",
   "execution_count": 55,
   "id": "43fc8e46",
   "metadata": {},
   "outputs": [
    {
     "name": "stdout",
     "output_type": "stream",
     "text": [
      "Among ambiguous cases (pred_set == {0,1}):\n",
      "true_label == 1:        0.297811110142147\n",
      "frau1 == 1:             0.47946280631377\n",
      "nongerman == 1:         0.09209034621086597\n",
      "nongerman_male == 1:    0.03191767681172059\n",
      "nongerman_female == 1:  0.060172669399145375\n"
     ]
    }
   ],
   "source": [
    "print(\"Among ambiguous cases (pred_set == {0,1}):\")\n",
    "print(f\"true_label == 1:        {n_true_label_1}\")\n",
    "print(f\"frau1 == 1:             {n_frau1_1}\")\n",
    "print(f\"nongerman == 1:         {n_nongerman_1}\")\n",
    "print(f\"nongerman_male == 1:    {n_nongerman_male_1}\")\n",
    "print(f\"nongerman_female == 1:  {n_nongerman_female_1}\")"
   ]
  },
  {
   "cell_type": "code",
   "execution_count": null,
   "id": "808510cc",
   "metadata": {},
   "outputs": [],
   "source": []
  }
 ],
 "metadata": {
  "kernelspec": {
   "display_name": "cma_f",
   "language": "python",
   "name": "python3"
  },
  "language_info": {
   "codemirror_mode": {
    "name": "ipython",
    "version": 3
   },
   "file_extension": ".py",
   "mimetype": "text/x-python",
   "name": "python",
   "nbconvert_exporter": "python",
   "pygments_lexer": "ipython3",
   "version": "3.11.8"
  }
 },
 "nbformat": 4,
 "nbformat_minor": 5
}
