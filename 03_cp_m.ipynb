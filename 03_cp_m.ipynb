{
 "cells": [
  {
   "cell_type": "markdown",
   "id": "07550eba",
   "metadata": {},
   "source": [
    "## Setup"
   ]
  },
  {
   "cell_type": "code",
   "execution_count": null,
   "id": "0040a42a",
   "metadata": {},
   "outputs": [],
   "source": [
    "# When working in AI LRZ\n",
    "%cd ~/projects/cma_f "
   ]
  },
  {
   "cell_type": "code",
   "execution_count": 1,
   "id": "5ad59357",
   "metadata": {},
   "outputs": [
    {
     "name": "stderr",
     "output_type": "stream",
     "text": [
      "/Users/julia/Desktop/CMA_Fairness/cma_f/lib/python3.11/site-packages/inFairness/utils/ndcg.py:37: FutureWarning: We've integrated functorch into PyTorch. As the final step of the integration, `functorch.vmap` is deprecated as of PyTorch 2.0 and will be deleted in a future version of PyTorch >= 2.3. Please use `torch.vmap` instead; see the PyTorch 2.0 release notes and/or the `torch.func` migration guide for more details https://pytorch.org/docs/main/func.migrating.html\n",
      "  vect_normalized_discounted_cumulative_gain = vmap(\n",
      "/Users/julia/Desktop/CMA_Fairness/cma_f/lib/python3.11/site-packages/inFairness/utils/ndcg.py:48: FutureWarning: We've integrated functorch into PyTorch. As the final step of the integration, `functorch.vmap` is deprecated as of PyTorch 2.0 and will be deleted in a future version of PyTorch >= 2.3. Please use `torch.vmap` instead; see the PyTorch 2.0 release notes and/or the `torch.func` migration guide for more details https://pytorch.org/docs/main/func.migrating.html\n",
      "  monte_carlo_vect_ndcg = vmap(vect_normalized_discounted_cumulative_gain, in_dims=(0,))\n"
     ]
    }
   ],
   "source": [
    "import pandas as pd\n",
    "import numpy as np\n",
    "from joblib import load\n",
    "import yaml\n",
    "\n",
    "from utils import (\n",
    "    compute_nc_scores,\n",
    "    find_threshold,\n",
    "    predict_conformal_sets,\n",
    "    evaluate_sets\n",
    ")"
   ]
  },
  {
   "cell_type": "code",
   "execution_count": 2,
   "id": "394b1234",
   "metadata": {},
   "outputs": [],
   "source": [
    "# Load universe definitions from YAML\n",
    "with open(\"universes.yaml\") as f:\n",
    "    universes = yaml.safe_load(f)"
   ]
  },
  {
   "cell_type": "code",
   "execution_count": 3,
   "id": "7871a86d",
   "metadata": {},
   "outputs": [],
   "source": [
    "# Determine unique model & feature_set combinations (each requires one model)\n",
    "unique_combos = {(cfg[\"model\"], cfg[\"feature_set\"]) for cfg in universes}"
   ]
  },
  {
   "cell_type": "markdown",
   "id": "16090e24",
   "metadata": {},
   "source": [
    "## Data and Model Loading"
   ]
  },
  {
   "cell_type": "code",
   "execution_count": 4,
   "id": "1c8eccd7",
   "metadata": {},
   "outputs": [],
   "source": [
    "X_calib_f = pd.read_csv(\"./output/X_calib_f.csv\") # 2015, w. protected attributes\n",
    "X_calib_s = pd.read_csv(\"./output/X_calib_s.csv\") # 2015, w/o protected attributes\n",
    "y_calib = pd.read_csv(\"./output/y_calib.csv\").iloc[:,0]\n",
    "\n",
    "X_test_f = pd.read_csv(\"./output/X_test_f.csv\")\n",
    "X_test_s = pd.read_csv(\"./output/X_test_s.csv\")\n",
    "y_test = pd.read_csv(\"./output/y_test.csv\").iloc[:,0]"
   ]
  },
  {
   "cell_type": "code",
   "execution_count": 5,
   "id": "c8ddb058",
   "metadata": {},
   "outputs": [],
   "source": [
    "# Mapping from feature_set name to actual DataFrame, for convenience\n",
    "feature_sets_calib = {\n",
    "    \"with_protected\": X_calib_f,\n",
    "    \"without_protected\": X_calib_s\n",
    "}\n",
    "feature_sets_test = {\n",
    "    \"with_protected\": X_test_f,\n",
    "    \"without_protected\": X_test_s\n",
    "}"
   ]
  },
  {
   "cell_type": "markdown",
   "id": "08fbfe25",
   "metadata": {},
   "source": [
    "## Conformal"
   ]
  },
  {
   "cell_type": "code",
   "execution_count": 6,
   "id": "c34ec667",
   "metadata": {},
   "outputs": [],
   "source": [
    "# Miscoverage level for conformal prediction (10% allowed error rate => 90% target coverage)\n",
    "alpha = 0.10"
   ]
  },
  {
   "cell_type": "code",
   "execution_count": 7,
   "id": "cac23896",
   "metadata": {},
   "outputs": [],
   "source": [
    "# Helper function: given a trained model file and data, produce conformal prediction sets and metrics\n",
    "def conformal_calibrate_and_evaluate(model_path, X_cal, y_cal, X_te, y_te, alpha):\n",
    "    \"\"\"Load model, compute conformal prediction sets on X_te using calibration set (X_cal, y_cal).\"\"\"\n",
    "    model = load(model_path)\n",
    "    # Compute nonconformity scores on calibration set (1 - probability of true class)\n",
    "    probs_cal = model.predict_proba(X_cal)\n",
    "    nc_scores = compute_nc_scores(probs_cal, y_cal)\n",
    "    # Find conformal threshold q_hat for the given alpha (split conformal method)\n",
    "    q_hat = find_threshold(nc_scores, alpha)\n",
    "    # Generate prediction sets for each test example\n",
    "    pred_sets = predict_conformal_sets(model, X_te, q_hat)\n",
    "    # Evaluate coverage and average set size on test data\n",
    "    metrics = evaluate_sets(pred_sets, y_te)\n",
    "    return q_hat, metrics, pred_sets"
   ]
  },
  {
   "cell_type": "code",
   "execution_count": 8,
   "id": "04e0448a",
   "metadata": {},
   "outputs": [
    {
     "name": "stdout",
     "output_type": "stream",
     "text": [
      "Model: logreg (with_protected - Coverage: 0.911, Avg. Set Size: 1.13\n",
      "Model: logreg (without_protected - Coverage: 0.910, Avg. Set Size: 1.13\n",
      "Model: penalized_logreg (with_protected - Coverage: 0.911, Avg. Set Size: 1.13\n",
      "Model: penalized_logreg (without_protected - Coverage: 0.910, Avg. Set Size: 1.12\n",
      "Model: rf (with_protected - Coverage: 0.915, Avg. Set Size: 1.15\n",
      "Model: rf (without_protected - Coverage: 0.913, Avg. Set Size: 1.14\n"
     ]
    }
   ],
   "source": [
    "# Run conformal prediction for each model type & feature set combination\n",
    "conformal_results = {}  # to collect results for each universe combo\n",
    "for model_type, feature_flag in sorted(unique_combos):\n",
    "    # Identify the saved model file for this universe (matching training stage naming convention)\n",
    "    model_filename = f\"{model_type}_{feature_flag}.joblib\"\n",
    "    model_path = f\"./models/{model_filename}\"\n",
    "    # Select the corresponding calibration and test feature sets\n",
    "    X_cal = feature_sets_calib[feature_flag]\n",
    "    X_te  = feature_sets_test[feature_flag]\n",
    "    # Perform conformal calibration and evaluation\n",
    "    q_hat, metrics, pred_sets = conformal_calibrate_and_evaluate(model_path, X_cal, y_calib, X_te, y_test, alpha)\n",
    "    # Store results (coverage and average set size)\n",
    "    conformal_results[(model_type, feature_flag)] = {\n",
    "        \"q_hat\": q_hat,\n",
    "        \"coverage\": metrics[\"coverage\"],\n",
    "        \"avg_set_size\": metrics[\"avg_size\"]\n",
    "    }\n",
    "    # Print a summary of results for this model universe\n",
    "    cov = metrics[\"coverage\"]; avg = metrics[\"avg_size\"]\n",
    "    print(f\"Model: {model_type} ({feature_flag} - Coverage: {cov:.3f}, Avg. Set Size: {avg:.2f}\")"
   ]
  },
  {
   "cell_type": "markdown",
   "id": "404cefef",
   "metadata": {},
   "source": [
    "## Analyzing CP per subgroup "
   ]
  },
  {
   "cell_type": "code",
   "execution_count": 18,
   "id": "602ec344",
   "metadata": {},
   "outputs": [],
   "source": [
    "from sklearn.metrics import confusion_matrix, precision_recall_fscore_support, balanced_accuracy_score"
   ]
  },
  {
   "cell_type": "code",
   "execution_count": 10,
   "id": "549cb040",
   "metadata": {},
   "outputs": [],
   "source": [
    "def conformal_prediction_sets(model, X_calib, y_calib, X_test, alpha=0.1):\n",
    "    \"\"\"\n",
    "    Generate conformal prediction sets for X_test using calibration data (X_calib, y_calib).\n",
    "    Returns a list of prediction sets (as Python sets of class labels) for each test sample.\n",
    "    \"\"\"\n",
    "    # Compute nonconformity scores on calibration set (1 - probability of true class)\n",
    "    probs_calib = model.predict_proba(X_calib)         # shape: (n_calib, n_classes)\n",
    "    nc_scores = 1.0 - probs_calib[np.arange(len(y_calib)), y_calib]  # 1 - P(true_label)\n",
    "    # Determine conformal threshold q_hat at level alpha\n",
    "    q_hat = np.quantile(nc_scores, 1 - alpha, method=\"higher\")\n",
    "    # Compute nonconformity scores for each test sample and derive prediction sets\n",
    "    probs_test = model.predict_proba(X_test)           # shape: (n_test, n_classes)\n",
    "    nonconf_test = 1.0 - probs_test                    # nonconformity for each class\n",
    "    pred_sets = [ set(np.where(nc_row <= q_hat)[0]) for nc_row in nonconf_test ]\n",
    "    return pred_sets"
   ]
  },
  {
   "cell_type": "code",
   "execution_count": 11,
   "id": "052db886",
   "metadata": {},
   "outputs": [],
   "source": [
    "def build_cp_groups(pred_sets, y_test, test_idx, X_test_full):\n",
    "    \"\"\"\n",
    "    Build a DataFrame of conformal prediction results with subgroup info.\n",
    "    - pred_sets: list of prediction sets for each test sample (in order of test_idx).\n",
    "    - y_test: Series or array of true labels for test samples.\n",
    "    - test_idx: index of the test samples corresponding to pred_sets.\n",
    "    - X_test_full: DataFrame of test features **including protected attributes**.\n",
    "    \"\"\"\n",
    "    cp_df = pd.DataFrame(index=test_idx.copy())\n",
    "    # Store prediction sets (convert each to a set of ints for consistency)\n",
    "    cp_df['pred_set']   = pd.Series(pred_sets, index=test_idx).apply(lambda s: {int(x) for x in s})\n",
    "    cp_df['true_label'] = y_test.reindex(test_idx)\n",
    "    # Bring in protected attributes from the full test set\n",
    "    cp_df['frau1']    = X_test_full.loc[test_idx, 'frau1']          # 1 = female, 0 = male\n",
    "    # Derive 'nongerman' flag ('maxdeutsch1' indicates German (1) vs non-German (0))\n",
    "    cp_df['nongerman'] = np.where(X_test_full.loc[test_idx, 'maxdeutsch1'] == 0, 1, 0)\n",
    "    # Handle missing nationality information if applicable\n",
    "    if 'maxdeutsch.Missing.' in X_test_full.columns:\n",
    "        missing_mask = (X_test_full.loc[test_idx, 'maxdeutsch.Missing.'] == 1)\n",
    "        cp_df.loc[missing_mask, 'nongerman'] = np.nan\n",
    "    # Derive intersectional subgroup flags\n",
    "    cp_df['nongerman_male']   = np.where((cp_df['nongerman'] == 1) & (cp_df['frau1'] == 0), 1, 0)\n",
    "    cp_df['nongerman_female'] = np.where((cp_df['nongerman'] == 1) & (cp_df['frau1'] == 1), 1, 0)\n",
    "    # (Optional) drop samples with missing subgroup info\n",
    "    cp_df = cp_df.dropna(subset=['nongerman'])\n",
    "    return cp_df"
   ]
  },
  {
   "cell_type": "code",
   "execution_count": 25,
   "id": "e7f0add7",
   "metadata": {},
   "outputs": [],
   "source": [
    "def compute_subgroup_metrics(cp_df):\n",
    "    \"\"\"\n",
    "    Compute accuracy, precision, recall, F1, and balanced accuracy for overall and each subgroup in cp_df.\n",
    "    Considers only single-label prediction sets as definite predictions.\n",
    "    \"\"\"\n",
    "    results = {}\n",
    "    # Convert prediction sets to list for easier handling\n",
    "    pred_sets_list = cp_df['pred_set'].tolist()\n",
    "    y_true = np.array(cp_df['true_label'])\n",
    "    # Identify non-ambiguous (single-label) predictions\n",
    "    is_single = np.array([len(s) == 1 for s in pred_sets_list])\n",
    "    # Overall metrics for all single predictions\n",
    "    if np.any(is_single):\n",
    "        y_true_single = y_true[is_single]\n",
    "        # Extract the single predicted label from each singleton set\n",
    "        y_pred_single = [next(iter(s)) for s, flag in zip(pred_sets_list, is_single) if flag]\n",
    "        # Compute confusion matrix and metrics\n",
    "        tn, fp, fn, tp = confusion_matrix(y_true_single, y_pred_single, labels=[0, 1]).ravel()\n",
    "        precision, recall, f1, _ = precision_recall_fscore_support(\n",
    "            y_true_single, y_pred_single, average=\"binary\", zero_division=0\n",
    "        )\n",
    "        bal_acc = balanced_accuracy_score(y_true_single, y_pred_single)\n",
    "\n",
    "        results[\"overall\"] = {\n",
    "            \"TP\": tp, \"TN\": tn, \"FP\": fp, \"FN\": fn,\n",
    "            \"Accuracy\": (tp + tn) / (tp + tn + fp + fn) if (tp+tn+fp+fn) > 0 else 0.0,\n",
    "            \"Precision\": precision, \"Recall\": recall, \"F1\": f1, \"Bal_acc\": bal_acc,\n",
    "            \"Num_Samples\": len(y_true_single),\n",
    "            \"Frac_NonAmbiguous\": np.mean(is_single)  # fraction of test samples with a single-label pred\n",
    "        }\n",
    "    else:\n",
    "        # If no single-label predictions, overall metrics are all zero/none\n",
    "        # ???? check if this is desired behavior\n",
    "        results[\"overall\"] = {\n",
    "            \"TP\": 0, \"TN\": 0, \"FP\": 0, \"FN\": 0,\n",
    "            \"Accuracy\": 0.0, \"Precision\": 0.0, \"Recall\": 0.0, \"F1\": 0.0, \"Bal_acc\": 0.0,\n",
    "            \"Num_Samples\": 0, \"Frac_NonAmbiguous\": 0.0\n",
    "        }\n",
    "    # List of subgroup columns to evaluate (1 indicates membership in subgroup)\n",
    "    subgroup_cols = [\"frau1\", \"nongerman\", \"nongerman_male\", \"nongerman_female\"]\n",
    "    for col in subgroup_cols:\n",
    "        mask = (cp_df[col] == 1).to_numpy() & is_single  # members of subgroup with definite predictions\n",
    "        if np.any(mask):\n",
    "            y_true_sub = y_true[mask]\n",
    "            y_pred_sub = [next(iter(s)) for s, flag in zip(pred_sets_list, mask) if flag]\n",
    "            tn, fp, fn, tp = confusion_matrix(y_true_sub, y_pred_sub, labels=[0, 1]).ravel()\n",
    "            precision, recall, f1, _ = precision_recall_fscore_support(\n",
    "                y_true_sub, y_pred_sub, average=\"binary\", zero_division=0\n",
    "            )\n",
    "            bal_acc = balanced_accuracy_score(y_true_sub, y_pred_sub)\n",
    "\n",
    "            results[col] = {\n",
    "                \"TP\": tp, \"TN\": tn, \"FP\": fp, \"FN\": fn,\n",
    "                \"Accuracy\": (tp + tn) / (tp + tn + fp + fn) if (tp+tn+fp+fn) > 0 else 0.0,\n",
    "                \"Precision\": precision, \"Recall\": recall, \"F1\": f1, \"Bal_acc\": bal_acc,\n",
    "                \"Num_Samples\": len(y_true_sub),\n",
    "                # Fraction of subgroup's samples with a single-label prediction\n",
    "                \"Frac_NonAmbiguous\": np.mean(is_single[cp_df[col] == 1])\n",
    "            }\n",
    "        else:\n",
    "            results[col] = None  # No definite predictions (or no samples) in this subgroup\n",
    "            \n",
    "    metrics_df = pd.DataFrame(results).T\n",
    "    metrics_df.index.name = 'Subgroup'\n",
    "    return metrics_df"
   ]
  },
  {
   "cell_type": "code",
   "execution_count": null,
   "id": "7dd4855d",
   "metadata": {},
   "outputs": [],
   "source": [
    "# 2. Use the above functions in the analysis workflow\n",
    "# Example for a single universe or model configuration:\n",
    "#model_path = \"./models/logreg_with_protected.joblib\"\n",
    "#model = load(model_path)\n",
    "## Use appropriate feature sets depending on model (with or without protected)\n",
    "#X_calib = X_calib_f   # (assuming this model uses protected attributes)\n",
    "#X_test  = X_test_f\n",
    "## Generate conformal prediction sets for this model\n",
    "#pred_sets = conformal_prediction_sets(model, X_calib, y_calib.to_numpy(), X_test, alpha=0.1)\n",
    "## Build the cp_groups DataFrame with true labels and group info\n",
    "#cp_groups_df = build_cp_groups(pred_sets, y_test, X_test.index, X_test_f)\n",
    "## Compute subgroup metrics\n",
    "#metrics = compute_subgroup_metrics(cp_groups_df)\n",
    "#print(metrics)\n"
   ]
  },
  {
   "cell_type": "code",
   "execution_count": 26,
   "id": "caecfd94",
   "metadata": {},
   "outputs": [],
   "source": [
    "# 2. Compute metrics for each universe in universes\n",
    "metrics_by_universe = {}\n",
    "records = []\n",
    "\n",
    "for model_type, feature_flag in unique_combos:\n",
    "    universe_id = f\"{model_type}_{feature_flag}\"\n",
    "    model_path = f\"./models/{universe_id}.joblib\"\n",
    "    model = load(model_path)\n",
    "\n",
    "    if feature_flag == \"with_protected\":\n",
    "        X_calib, X_test = X_calib_f, X_test_f\n",
    "    else:\n",
    "        X_calib, X_test = X_calib_s, X_test_s\n",
    "\n",
    "    pred_sets = conformal_prediction_sets(model, X_calib, y_calib.to_numpy(), X_test, alpha=0.1)\n",
    "    cp_groups_df = build_cp_groups(pred_sets, y_test, X_test.index, X_test_f)\n",
    "    metrics = compute_subgroup_metrics(cp_groups_df)\n",
    "    \n",
    "    # Add balanced accuracy to each subgroup row (same method as f1)\n",
    "    \n",
    "    metrics_by_universe[universe_id] = metrics\n",
    "\n",
    "    for subgroup, row in metrics.iterrows():\n",
    "        if row is not None:\n",
    "            row_dict = row.to_dict()\n",
    "            row_dict.update({\n",
    "                \"UniverseID\": universe_id,\n",
    "                \"Model\": model_type,\n",
    "                \"FeatureSet\": feature_flag,\n",
    "                \"Subgroup\": subgroup\n",
    "            })\n",
    "            records.append(row_dict)\n",
    "\n",
    "# Combine into a single DataFrame\n",
    "all_metrics_df = pd.DataFrame(records)"
   ]
  },
  {
   "cell_type": "code",
   "execution_count": 27,
   "id": "916c03e1",
   "metadata": {},
   "outputs": [],
   "source": [
    "all_metrics_df.to_csv(\"./output/conformal_subgroup_metrics.csv\", index=False)\n"
   ]
  },
  {
   "cell_type": "markdown",
   "id": "88610304",
   "metadata": {},
   "source": [
    "# Visualizations"
   ]
  },
  {
   "cell_type": "code",
   "execution_count": 15,
   "id": "3bf06fca",
   "metadata": {},
   "outputs": [
    {
     "name": "stdout",
     "output_type": "stream",
     "text": [
      "                         UniverseID          Subgroup     TP       TN     FP  \\\n",
      "25  penalized_logreg_with_protected           overall  340.0  68059.0  439.0   \n",
      "26  penalized_logreg_with_protected             frau1  115.0  28442.0  171.0   \n",
      "27  penalized_logreg_with_protected         nongerman   36.0  14880.0   34.0   \n",
      "28  penalized_logreg_with_protected    nongerman_male   22.0   9690.0   15.0   \n",
      "29  penalized_logreg_with_protected  nongerman_female   14.0   5190.0   19.0   \n",
      "\n",
      "        FN  Accuracy  Precision    Recall        F1  Num_Samples  \\\n",
      "25  7307.0  0.898273   0.436457  0.044462  0.080703      76145.0   \n",
      "26  3187.0  0.894783   0.402098  0.034827  0.064103      31915.0   \n",
      "27  1515.0  0.905922   0.514286  0.023211  0.044417      16465.0   \n",
      "28   773.0  0.924952   0.594595  0.027673  0.052885      10500.0   \n",
      "29   742.0  0.872422   0.424242  0.018519  0.035488       5965.0   \n",
      "\n",
      "    Frac_NonAmbiguous  \n",
      "25           0.875401  \n",
      "26           0.860359  \n",
      "27           0.924325  \n",
      "28           0.945690  \n",
      "29           0.888972  \n"
     ]
    }
   ],
   "source": [
    "target_universe_id = \"penalized_logreg_with_protected\"\n",
    "\n",
    "subset_df = all_metrics_df[all_metrics_df[\"UniverseID\"] == target_universe_id].drop(columns=[\"Model\", \"FeatureSet\"])\n",
    "\n",
    "# Reorder columns: UniverseID, Subgroup, then the rest\n",
    "cols = [\"UniverseID\", \"Subgroup\"] + [col for col in subset_df.columns if col not in [\"UniverseID\", \"Subgroup\"]]\n",
    "subset_df = subset_df[cols]\n",
    "\n",
    "print(subset_df)"
   ]
  },
  {
   "cell_type": "code",
   "execution_count": 28,
   "id": "b75c4003",
   "metadata": {},
   "outputs": [
    {
     "name": "stderr",
     "output_type": "stream",
     "text": [
      "/var/folders/h7/6qcvyjh51cg86vrxn3xs8c_40000gn/T/ipykernel_31874/3391936826.py:20: FutureWarning: \n",
      "\n",
      "Passing `palette` without assigning `hue` is deprecated and will be removed in v0.14.0. Assign the `y` variable to `hue` and set `legend=False` for the same effect.\n",
      "\n",
      "  ax = sns.boxplot(\n"
     ]
    },
    {
     "data": {
      "image/png": "[encoded data removed]",
      "text/plain": [
       "<Figure size 1000x600 with 1 Axes>"
      ]
     },
     "metadata": {},
     "output_type": "display_data"
    }
   ],
   "source": [
    "import matplotlib.pyplot as plt\n",
    "import seaborn as sns\n",
    "\n",
    "# Set plot style\n",
    "sns.set(style=\"whitegrid\", font_scale=1.2)\n",
    "\n",
    "# Drop rows with missing F1 scores\n",
    "filtered_df = all_metrics_df.dropna(subset=[\"F1\"])\n",
    "\n",
    "# Count number of observations per subgroup for annotation\n",
    "subgroup_counts = filtered_df[\"Subgroup\"].value_counts()\n",
    "\n",
    "# Create figure\n",
    "plt.figure(figsize=(10, 6))\n",
    "\n",
    "# Custom color palette\n",
    "palette = sns.color_palette(\"Set2\", n_colors=5)\n",
    "\n",
    "# Horizontal boxplot (f1 on x-axis)\n",
    "ax = sns.boxplot(\n",
    "    y=\"Subgroup\",\n",
    "    x=\"F1\",\n",
    "    data=filtered_df,\n",
    "    palette=palette,\n",
    "    linewidth=1.5,\n",
    "    fliersize=3\n",
    ")\n",
    "\n",
    "# Annotate with number of data points\n",
    "for i, subgroup in enumerate(ax.get_yticklabels()):\n",
    "    count = subgroup_counts.get(subgroup.get_text(), 0)\n",
    "    #ax.text(0.02, i, f\"n={count}\", ha='left', va='center', fontsize=10, color='gray')\n",
    "\n",
    "# Axis labels and title\n",
    "ax.set_title(\"F1 Score Distribution by Subgroup\", fontsize=16, weight='bold')\n",
    "ax.set_xlabel(\"F1 Score\", fontsize=13)\n",
    "ax.set_ylabel(\"Subgroup\", fontsize=13)\n",
    "plt.xlim(0, 0.1)\n",
    "\n",
    "# Final layout adjustments\n",
    "plt.tight_layout()\n",
    "plt.show()\n"
   ]
  },
  {
   "cell_type": "code",
   "execution_count": 30,
   "id": "acb43d97",
   "metadata": {},
   "outputs": [
    {
     "name": "stderr",
     "output_type": "stream",
     "text": [
      "/var/folders/h7/6qcvyjh51cg86vrxn3xs8c_40000gn/T/ipykernel_31874/2280318459.py:17: FutureWarning: \n",
      "\n",
      "Passing `palette` without assigning `hue` is deprecated and will be removed in v0.14.0. Assign the `y` variable to `hue` and set `legend=False` for the same effect.\n",
      "\n",
      "  ax = sns.boxplot(\n"
     ]
    },
    {
     "data": {
      "image/png": "[encoded data removed]",
      "text/plain": [
       "<Figure size 1000x600 with 1 Axes>"
      ]
     },
     "metadata": {},
     "output_type": "display_data"
    }
   ],
   "source": [
    "# Set plot style\n",
    "sns.set(style=\"whitegrid\", font_scale=1.2)\n",
    "\n",
    "# Drop rows with missing Balanced Accuracy scores\n",
    "filtered_df = all_metrics_df.dropna(subset=[\"Bal_acc\"])\n",
    "\n",
    "# Count number of observations per subgroup for annotation\n",
    "subgroup_counts = filtered_df[\"Subgroup\"].value_counts()\n",
    "\n",
    "# Create figure\n",
    "plt.figure(figsize=(10, 6))\n",
    "\n",
    "# Custom color palette\n",
    "palette = sns.color_palette(\"Set2\", n_colors=5)\n",
    "\n",
    "# Horizontal boxplot (Balanced Accuracy on x-axis)\n",
    "ax = sns.boxplot(\n",
    "    y=\"Subgroup\",\n",
    "    x=\"Bal_acc\",\n",
    "    data=filtered_df,\n",
    "    palette=palette,\n",
    "    linewidth=1.5,\n",
    "    fliersize=3\n",
    ")\n",
    "\n",
    "# Annotate with number of data points (commented out)\n",
    "# for i, subgroup in enumerate(ax.get_yticklabels()):\n",
    "#     count = subgroup_counts.get(subgroup.get_text(), 0)\n",
    "#     ax.text(0.02, i, f\"n={count}\", ha='left', va='center', fontsize=10, color='gray')\n",
    "\n",
    "# Axis labels and title\n",
    "ax.set_title(\"Balanced Accuracy Distribution by Subgroup\", fontsize=16, weight='bold')\n",
    "ax.set_xlabel(\"Balanced Accuracy\", fontsize=13)\n",
    "ax.set_ylabel(\"Subgroup\", fontsize=13)\n",
    "plt.xlim(0, 1)\n",
    "\n",
    "# Final layout adjustments\n",
    "plt.tight_layout()\n",
    "plt.show()\n"
   ]
  },
  {
   "cell_type": "code",
   "execution_count": null,
   "id": "e58de899",
   "metadata": {},
   "outputs": [],
   "source": [
    "import matplotlib.pyplot as plt\n",
    "import seaborn as sns\n",
    "\n",
    "# Set plot style\n",
    "sns.set(style=\"whitegrid\", font_scale=1.2)\n",
    "\n",
    "# Drop rows with missing values for the target metric\n",
    "filtered_df = all_metrics_df.dropna(subset=[\"Frac_NonAmbiguous\"])\n",
    "\n",
    "# Count number of observations per subgroup for annotation\n",
    "subgroup_counts = filtered_df[\"Subgroup\"].value_counts()\n",
    "\n",
    "# Create figure\n",
    "plt.figure(figsize=(10, 6))\n",
    "\n",
    "# Custom color palette\n",
    "palette = sns.color_palette(\"Set2\", n_colors=5)\n",
    "\n",
    "# Horizontal boxplot: Frac_NonAmbiguous on x-axis\n",
    "ax = sns.boxplot(\n",
    "    y=\"Subgroup\",\n",
    "    x=\"Frac_NonAmbiguous\",\n",
    "    data=filtered_df,\n",
    "    palette=palette,\n",
    "    linewidth=1.5,\n",
    "    fliersize=3\n",
    ")\n",
    "\n",
    "# Annotate with number of data points\n",
    "for i, subgroup in enumerate(ax.get_yticklabels()):\n",
    "    count = subgroup_counts.get(subgroup.get_text(), 0)\n",
    "    #ax.text(0.005, i, f\"n={count}\", ha='left', va='center', fontsize=10, color='gray')\n",
    "\n",
    "# Axis labels and title\n",
    "ax.set_title(\"Fraction of Non-Ambiguous Predictions by Subgroup\", fontsize=16, weight='bold')\n",
    "ax.set_xlabel(\"Fraction Non-Ambiguous\", fontsize=13)\n",
    "ax.set_ylabel(\"Subgroup\", fontsize=13)\n",
    "plt.xlim(0.8, 1)\n",
    "\n",
    "# Final layout adjustments\n",
    "plt.tight_layout()\n",
    "plt.show()\n"
   ]
  },
  {
   "cell_type": "markdown",
   "id": "b33c904d",
   "metadata": {},
   "source": [
    "# Modified multiverse loop (with prediction collection)"
   ]
  },
  {
   "cell_type": "code",
   "execution_count": null,
   "id": "42941bc0",
   "metadata": {},
   "outputs": [],
   "source": [
    "# Prepare a list to collect per-universe prediction DataFrames\n",
    "all_predictions_list = []\n",
    "\n",
    "for i, cfg in enumerate(universes):\n",
    "    model_type      = cfg[\"model\"]\n",
    "    feature_flag    = cfg[\"feature_set\"]\n",
    "    threshold_policy = cfg.get(\"threshold_policy\", \"standard\")  # use actual key if present\n",
    "\n",
    "    # Identify model file and corresponding data sets\n",
    "    model_path = f\"./models/{model_type}_{feature_flag}.joblib\"\n",
    "    X_cal = feature_sets_calib[feature_flag]    # calibration features (with/without protected as per feature_flag)\n",
    "    X_te = feature_sets_test[feature_flag]      # test features (with/without protected)\n",
    "    \n",
    "    # Perform conformal prediction for this universe (calibrate and get prediction sets)\n",
    "    q_hat, metrics, pred_sets = conformal_calibrate_and_evaluate(model_path, \n",
    "                                                                 X_cal, y_calib, \n",
    "                                                                 X_te, y_test, alpha)\n",
    "    # `pred_sets` is a list of predicted label sets for each test sample in this universe.\n",
    "    # Now build a DataFrame for this universe's predictions:\n",
    "    test_idx = X_te.index.copy()  # indices of the test samples for this run\n",
    "    cp_df = build_cp_groups(pred_sets, y_test, test_idx, X_test_f)\n",
    "    # `build_cp_groups` will add columns: pred_set, true_label, frau1, nongerman, etc.\n",
    "    # (It uses X_test_f as the full test set with protected attributes:contentReference[oaicite:1]{index=1}.)\n",
    "\n",
    "    # Add columns identifying the decision configuration for this prediction\n",
    "    cp_df[\"model\"]           = model_type\n",
    "    cp_df[\"feature_set\"]     = feature_flag\n",
    "    cp_df[\"threshold_policy\"] = threshold_policy\n",
    "    cp_df[\"UniverseID\"]      = cfg[\"id\"]  \n",
    "    \n",
    "    # Collect this universe's prediction dataframe\n",
    "    all_predictions_list.append(cp_df)\n",
    "\n",
    "# Combine all universes into one DataFrame\n",
    "all_preds_df = pd.concat(all_predictions_list, ignore_index=True)\n",
    "\n",
    "print(f\"Total predictions collected: {len(all_preds_df)} rows\")\n",
    "# Each row is one test-sample prediction under one universe (decision combo).\n",
    "# Let's preview the columns:\n",
    "print(all_preds_df.columns.tolist())\n"
   ]
  },
  {
   "cell_type": "code",
   "execution_count": null,
   "id": "10af2cb3",
   "metadata": {},
   "outputs": [],
   "source": [
    "# Save the full predictions DataFrame to disk for reuse\n",
    "all_preds_df.to_csv(\"./data/all_universe_predictions.csv\", index=False)\n"
   ]
  },
  {
   "cell_type": "code",
   "execution_count": null,
   "id": "62b5f519",
   "metadata": {},
   "outputs": [],
   "source": [
    "all_preds_df.head()"
   ]
  },
  {
   "cell_type": "code",
   "execution_count": null,
   "id": "a2f5e2e5",
   "metadata": {},
   "outputs": [],
   "source": [
    "# If separate files per universe are preferred\n",
    "#for u_id, cp_df in enumerate(all_predictions_list):\n",
    "#    cp_df.to_csv(f\"predictions_universe_{u_id}.csv\", index=False)\n"
   ]
  },
  {
   "cell_type": "markdown",
   "id": "0705fce8",
   "metadata": {},
   "source": [
    "# Visualizations"
   ]
  },
  {
   "cell_type": "code",
   "execution_count": null,
   "id": "63302713",
   "metadata": {},
   "outputs": [],
   "source": [
    "# Create a helper column for pred_set type as string\n",
    "all_preds_df['pred_set_str'] = all_preds_df['pred_set'].apply(lambda s: str(sorted(s)))"
   ]
  },
  {
   "cell_type": "code",
   "execution_count": null,
   "id": "04455065",
   "metadata": {},
   "outputs": [],
   "source": [
    "# Define subgroups to analyze (including 'overall')\n",
    "subgroups = ['overall', 'frau1', 'nongerman', 'nongerman_male', 'nongerman_female']\n",
    "subgroup_labels = {\n",
    "    'overall': 'Overall',\n",
    "    'frau1': 'Female',\n",
    "    'nongerman': 'Non-German',\n",
    "    'nongerman_male': 'Non-German Male',\n",
    "    'nongerman_female': 'Non-German Female'\n",
    "}\n"
   ]
  },
  {
   "cell_type": "code",
   "execution_count": null,
   "id": "ee31110d",
   "metadata": {},
   "outputs": [],
   "source": [
    "# Prepare data for plotting\n",
    "plot_data = []\n",
    "for subgroup in subgroups:\n",
    "    if subgroup == 'overall':\n",
    "        subgroup_df = all_preds_df.copy()\n",
    "    else:\n",
    "        subgroup_df = all_preds_df[all_preds_df[subgroup] == 1]\n",
    "\n",
    "    for universe, universe_df in subgroup_df.groupby('UniverseID'):\n",
    "        counts = universe_df['pred_set_str'].value_counts(normalize=True)\n",
    "        for pred_set_type in ['[0]', '[1]', '[0, 1]']:\n",
    "            plot_data.append({\n",
    "                'subgroup': subgroup_labels[subgroup],\n",
    "                'pred_set': pred_set_type,\n",
    "                'UniverseID': universe,\n",
    "                'fraction': counts.get(pred_set_type, 0)\n",
    "            })\n",
    "\n",
    "plot_df = pd.DataFrame(plot_data)"
   ]
  },
  {
   "cell_type": "code",
   "execution_count": null,
   "id": "e99b0a7d",
   "metadata": {},
   "outputs": [],
   "source": [
    "# Compute mean and std deviation across universes\n",
    "summary_df = plot_df.groupby(['subgroup', 'pred_set']).agg(\n",
    "    mean_fraction=('fraction', 'mean'),\n",
    "    std_fraction=('fraction', 'std')\n",
    ").reset_index()"
   ]
  },
  {
   "cell_type": "code",
   "execution_count": null,
   "id": "7491e1e0",
   "metadata": {},
   "outputs": [],
   "source": [
    "# Sort subgroups for consistent plotting\n",
    "ordered_labels = [subgroup_labels[s] for s in subgroups]\n",
    "summary_df['subgroup'] = pd.Categorical(summary_df['subgroup'], categories=ordered_labels, ordered=True)\n"
   ]
  },
  {
   "cell_type": "code",
   "execution_count": null,
   "id": "dabce4c1",
   "metadata": {},
   "outputs": [],
   "source": [
    "# Plot\n",
    "plt.figure(figsize=(12, 6))\n",
    "sns.barplot(\n",
    "    data=summary_df,\n",
    "    x='subgroup',\n",
    "    y='mean_fraction',\n",
    "    hue='pred_set',\n",
    "    palette='Set2',\n",
    "    capsize=0.1,\n",
    "    err_kws={'color': 'black'}\n",
    ")\n",
    "\n",
    "plt.title('Distribution of Conformal Prediction Set Types by Subgroup')\n",
    "plt.ylabel('Fraction of Predictions')\n",
    "plt.xlabel('Subgroup')\n",
    "plt.ylim(0, 1)\n",
    "plt.legend(title='Prediction Set')\n",
    "plt.tight_layout()\n",
    "plt.show()"
   ]
  },
  {
   "cell_type": "code",
   "execution_count": null,
   "id": "edcb94a2",
   "metadata": {},
   "outputs": [],
   "source": [
    "# Plot\n",
    "plt.figure(figsize=(12, 6))\n",
    "sns.barplot(\n",
    "    data=summary_df,\n",
    "    x='subgroup',\n",
    "    y='mean_fraction',\n",
    "    hue='pred_set',\n",
    "    palette='Set2',\n",
    "    capsize=0.1,\n",
    "    err_kws={'color': 'black'}\n",
    ")\n",
    "\n",
    "plt.title('Distribution of Conformal Prediction Set Types by Subgroup')\n",
    "plt.ylabel('Fraction of Predictions')\n",
    "plt.xlabel('Subgroup')\n",
    "plt.ylim(0, 0.175)\n",
    "plt.legend(title='Prediction Set')\n",
    "plt.tight_layout()\n",
    "plt.show()"
   ]
  },
  {
   "cell_type": "code",
   "execution_count": null,
   "id": "49ba1884",
   "metadata": {},
   "outputs": [],
   "source": [
    "# Plot with seaborn's internal error estimation\n",
    "plt.figure(figsize=(12, 6))\n",
    "sns.barplot(\n",
    "    data=plot_df,\n",
    "    x='subgroup',\n",
    "    y='fraction',\n",
    "    hue='pred_set',\n",
    "    palette='Set2',\n",
    "    capsize=0.1,\n",
    "    err_kws={'color': 'black'},  # <-- HIGHLIGHT: replaced deprecated 'errcolor' with 'err_kws'\n",
    "    estimator='mean',            # <-- HIGHLIGHT: explicitly defined the estimator\n",
    "    ci='sd'                      # <-- HIGHLIGHT: added standard deviation-based error bars\n",
    ")\n",
    "\n",
    "plt.title('Distribution of Conformal Prediction Set Types by Subgroup')\n",
    "plt.ylabel('Fraction of Predictions')\n",
    "plt.xlabel('Subgroup')\n",
    "plt.ylim(0, 1)\n",
    "plt.legend(title='Prediction Set')\n",
    "plt.tight_layout()\n",
    "plt.show()"
   ]
  },
  {
   "cell_type": "code",
   "execution_count": null,
   "id": "50ada5d0",
   "metadata": {},
   "outputs": [],
   "source": [
    "# Plot with seaborn's internal error estimation\n",
    "plt.figure(figsize=(12, 6))\n",
    "sns.barplot(\n",
    "    data=plot_df,\n",
    "    x='subgroup',\n",
    "    y='fraction',\n",
    "    hue='pred_set',\n",
    "    palette='Set2',\n",
    "    capsize=0.1,\n",
    "    err_kws={'color': 'black'},  # <-- HIGHLIGHT: replaced deprecated 'errcolor' with 'err_kws'\n",
    "    estimator='mean',            # <-- HIGHLIGHT: explicitly defined the estimator\n",
    "    ci='sd'                      # <-- HIGHLIGHT: added standard deviation-based error bars\n",
    ")\n",
    "\n",
    "plt.title('Distribution of Conformal Prediction Set Types by Subgroup')\n",
    "plt.ylabel('Fraction of Predictions')\n",
    "plt.xlabel('Subgroup')\n",
    "plt.ylim(0, 0.175)\n",
    "plt.legend(title='Prediction Set')\n",
    "plt.tight_layout()\n",
    "plt.show()"
   ]
  },
  {
   "cell_type": "markdown",
   "id": "279c0ae9",
   "metadata": {},
   "source": [
    "Can you add to the [0] and [1] prediction sets the \"true_label\" fractions per subgroup?"
   ]
  },
  {
   "cell_type": "code",
   "execution_count": null,
   "id": "932c7795",
   "metadata": {},
   "outputs": [],
   "source": [
    "# Prepare data for plotting\n",
    "plot_data = []\n",
    "for subgroup in subgroups:\n",
    "    if subgroup == 'overall':\n",
    "        subgroup_df = all_preds_df.copy()\n",
    "    else:\n",
    "        subgroup_df = all_preds_df[all_preds_df[subgroup] == 1]\n",
    "\n",
    "    for universe, universe_df in subgroup_df.groupby('UniverseID'):\n",
    "        counts = universe_df['pred_set_str'].value_counts(normalize=True)\n",
    "        for pred_set_type in ['[0]', '[1]', '[0, 1]']:\n",
    "            plot_data.append({\n",
    "                'subgroup': subgroup_labels[subgroup],\n",
    "                'pred_set': pred_set_type,\n",
    "                'UniverseID': universe,\n",
    "                'fraction': counts.get(pred_set_type, 0)\n",
    "            })\n",
    "\n",
    "        # Add true label fractions for comparison\n",
    "        for label in [0, 1]:\n",
    "            label_fraction = (universe_df['true_label'] == label).mean()\n",
    "            plot_data.append({\n",
    "                'subgroup': subgroup_labels[subgroup],\n",
    "                'pred_set': f'true={label}',\n",
    "                'UniverseID': universe,\n",
    "                'fraction': label_fraction\n",
    "            })\n",
    "\n",
    "plot_df = pd.DataFrame(plot_data)\n"
   ]
  },
  {
   "cell_type": "code",
   "execution_count": null,
   "id": "5aa873bb",
   "metadata": {},
   "outputs": [],
   "source": [
    "# Sort subgroups for consistent plotting\n",
    "ordered_labels = [subgroup_labels[s] for s in subgroups]\n",
    "plot_df['subgroup'] = pd.Categorical(plot_df['subgroup'], categories=ordered_labels, ordered=True)\n",
    "\n",
    "hue_order = ['[0]', 'true=0', '[1]', 'true=1', '[0, 1]']\n",
    "\n",
    "# Plot with seaborn's internal error estimation\n",
    "plt.figure(figsize=(12, 6))\n",
    "sns.barplot(\n",
    "    data=plot_df,\n",
    "    x='subgroup',\n",
    "    y='fraction',\n",
    "    hue='pred_set',\n",
    "    hue_order=hue_order,\n",
    "    palette='Set2',\n",
    "    capsize=0.1,\n",
    "    err_kws={'color': 'black'},\n",
    "    estimator='mean',\n",
    "    ci='sd'\n",
    ")\n",
    "\n",
    "plt.title('Distribution of Conformal Prediction Set Types and True Labels by Subgroup')\n",
    "plt.ylabel('Fraction')\n",
    "plt.xlabel('Subgroup')\n",
    "plt.ylim(0, 1)\n",
    "plt.legend(title='Prediction Set / True Label')\n",
    "plt.tight_layout()\n",
    "plt.show()"
   ]
  },
  {
   "cell_type": "code",
   "execution_count": null,
   "id": "7c24d098",
   "metadata": {},
   "outputs": [],
   "source": [
    "# Sort subgroups for consistent plotting\n",
    "ordered_labels = [subgroup_labels[s] for s in subgroups]\n",
    "plot_df['subgroup'] = pd.Categorical(plot_df['subgroup'], categories=ordered_labels, ordered=True)\n",
    "\n",
    "hue_order = ['[0]', 'true=0', '[1]', 'true=1', '[0, 1]']\n",
    "\n",
    "# Plot with seaborn's internal error estimation\n",
    "plt.figure(figsize=(12, 6))\n",
    "sns.barplot(\n",
    "    data=plot_df,\n",
    "    x='subgroup',\n",
    "    y='fraction',\n",
    "    hue='pred_set',\n",
    "    hue_order=hue_order,\n",
    "    palette='Set2',\n",
    "    capsize=0.1,\n",
    "    err_kws={'color': 'black'},\n",
    "    estimator='mean',\n",
    "    ci='sd'\n",
    ")\n",
    "\n",
    "plt.title('Distribution of Conformal Prediction Set Types and True Labels by Subgroup')\n",
    "plt.ylabel('Fraction')\n",
    "plt.xlabel('Subgroup')\n",
    "plt.ylim(0, 0.175)\n",
    "plt.legend(title='Prediction Set / True Label')\n",
    "plt.tight_layout()\n",
    "plt.show()"
   ]
  },
  {
   "cell_type": "markdown",
   "id": "25d67d99",
   "metadata": {},
   "source": [
    "# Pie Diagrams"
   ]
  },
  {
   "cell_type": "code",
   "execution_count": null,
   "id": "01672761",
   "metadata": {},
   "outputs": [],
   "source": [
    "# Check code for correctness\n",
    "\n",
    "# Validate input columns\n",
    "assert 'pred_set' in all_preds_df.columns, \"Missing 'pred_set' column\"\n",
    "assert 'true_label' in all_preds_df.columns, \"Missing 'true_label' column\"\n",
    "\n",
    "# Create pred_set_str explicitly from pred_set if needed\n",
    "if 'pred_set_str' not in all_preds_df.columns:\n",
    "    all_preds_df['pred_set_str'] = all_preds_df['pred_set'].apply(lambda x: str(sorted(x)))\n",
    "\n",
    "# Print unique values for checking\n",
    "print(\"Unique pred_set_str values:\", all_preds_df['pred_set_str'].unique())\n",
    "\n",
    "# Define subgroups\n",
    "subgroups = {\n",
    "    'overall': all_preds_df,\n",
    "    'female': all_preds_df[all_preds_df['frau1'] == 1],\n",
    "    'nongerman': all_preds_df[all_preds_df['nongerman'] == 1],\n",
    "    'nongerman_male': all_preds_df[all_preds_df['nongerman_male'] == 1],\n",
    "    'nongerman_female': all_preds_df[all_preds_df['nongerman_female'] == 1]\n",
    "}\n",
    "\n",
    "# Match transformed values from pred_set to pred_set_str\n",
    "prediction_sets = ['[0]', '[1]', '[0, 1]']  # Note: brackets from list -> string conversion\n",
    "colors = ['#66c2a5', '#fc8d62']\n",
    "\n",
    "for name, subset in subgroups.items():\n",
    "    print(f\"\\n--- Subgroup: {name} ---\")\n",
    "    fig, axes = plt.subplots(1, 3, figsize=(15, 5))\n",
    "    fig.suptitle(f\"{name.capitalize()} - Distribution of True Labels per Prediction Set\")\n",
    "\n",
    "    for i, pred_str in enumerate(prediction_sets):\n",
    "        selected = subset[subset['pred_set_str'] == pred_str]\n",
    "        true_counts = selected['true_label'].value_counts().reindex([0, 1], fill_value=0)\n",
    "        print(f\"Prediction: {pred_str}, Counts: {true_counts.to_dict()}\")\n",
    "\n",
    "        if true_counts.sum() == 0:\n",
    "            axes[i].text(0.5, 0.5, 'No data', ha='center', va='center', fontsize=12)\n",
    "            axes[i].set_title(f\"Prediction: {pred_str}\")\n",
    "            axes[i].axis('off')\n",
    "        else:\n",
    "            axes[i].pie(true_counts, labels=['True 0', 'True 1'], autopct='%1.1f%%', colors=colors)\n",
    "            axes[i].set_title(f\"Prediction: {pred_str}\")\n",
    "\n",
    "    plt.tight_layout(rect=[0, 0, 1, 0.95])\n",
    "    plt.show()\n"
   ]
  }
 ],
 "metadata": {
  "kernelspec": {
   "display_name": "cma_f",
   "language": "python",
   "name": "python3"
  },
  "language_info": {
   "codemirror_mode": {
    "name": "ipython",
    "version": 3
   },
   "file_extension": ".py",
   "mimetype": "text/x-python",
   "name": "python",
   "nbconvert_exporter": "python",
   "pygments_lexer": "ipython3",
   "version": "3.11.8"
  }
 },
 "nbformat": 4,
 "nbformat_minor": 5
}
