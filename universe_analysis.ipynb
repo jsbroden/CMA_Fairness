{
 "cells": [
  {
   "cell_type": "code",
   "execution_count": 1,
   "id": "e68c599f",
   "metadata": {},
   "outputs": [],
   "source": [
    "import json\n",
    "from pathlib import Path"
   ]
  },
  {
   "cell_type": "code",
   "execution_count": 2,
   "id": "aae2ac28",
   "metadata": {},
   "outputs": [
    {
     "ename": "FileNotFoundError",
     "evalue": "[Errno 2] No such file or directory: '../analyses/current_universe.json'",
     "output_type": "error",
     "traceback": [
      "\u001b[31m---------------------------------------------------------------------------\u001b[39m",
      "\u001b[31mFileNotFoundError\u001b[39m                         Traceback (most recent call last)",
      "\u001b[36mCell\u001b[39m\u001b[36m \u001b[39m\u001b[32mIn[2]\u001b[39m\u001b[32m, line 3\u001b[39m\n\u001b[32m      1\u001b[39m \u001b[38;5;66;03m# Read passed universe JSON\u001b[39;00m\n\u001b[32m      2\u001b[39m uni_path = Path(\u001b[33m\"\u001b[39m\u001b[33m../analyses/current_universe.json\u001b[39m\u001b[33m\"\u001b[39m)\n\u001b[32m----> \u001b[39m\u001b[32m3\u001b[39m \u001b[38;5;28;01mwith\u001b[39;00m \u001b[38;5;28;43mopen\u001b[39;49m\u001b[43m(\u001b[49m\u001b[43muni_path\u001b[49m\u001b[43m)\u001b[49m \u001b[38;5;28;01mas\u001b[39;00m f:\n\u001b[32m      4\u001b[39m     universe = json.load(f)\n\u001b[32m      6\u001b[39m universe\n",
      "\u001b[36mFile \u001b[39m\u001b[32m~/Desktop/CMA_Fairness/cma_f/lib/python3.11/site-packages/IPython/core/interactiveshell.py:326\u001b[39m, in \u001b[36m_modified_open\u001b[39m\u001b[34m(file, *args, **kwargs)\u001b[39m\n\u001b[32m    319\u001b[39m \u001b[38;5;28;01mif\u001b[39;00m file \u001b[38;5;129;01min\u001b[39;00m {\u001b[32m0\u001b[39m, \u001b[32m1\u001b[39m, \u001b[32m2\u001b[39m}:\n\u001b[32m    320\u001b[39m     \u001b[38;5;28;01mraise\u001b[39;00m \u001b[38;5;167;01mValueError\u001b[39;00m(\n\u001b[32m    321\u001b[39m         \u001b[33mf\u001b[39m\u001b[33m\"\u001b[39m\u001b[33mIPython won\u001b[39m\u001b[33m'\u001b[39m\u001b[33mt let you open fd=\u001b[39m\u001b[38;5;132;01m{\u001b[39;00mfile\u001b[38;5;132;01m}\u001b[39;00m\u001b[33m by default \u001b[39m\u001b[33m\"\u001b[39m\n\u001b[32m    322\u001b[39m         \u001b[33m\"\u001b[39m\u001b[33mas it is likely to crash IPython. If you know what you are doing, \u001b[39m\u001b[33m\"\u001b[39m\n\u001b[32m    323\u001b[39m         \u001b[33m\"\u001b[39m\u001b[33myou can use builtins\u001b[39m\u001b[33m'\u001b[39m\u001b[33m open.\u001b[39m\u001b[33m\"\u001b[39m\n\u001b[32m    324\u001b[39m     )\n\u001b[32m--> \u001b[39m\u001b[32m326\u001b[39m \u001b[38;5;28;01mreturn\u001b[39;00m \u001b[43mio_open\u001b[49m\u001b[43m(\u001b[49m\u001b[43mfile\u001b[49m\u001b[43m,\u001b[49m\u001b[43m \u001b[49m\u001b[43m*\u001b[49m\u001b[43margs\u001b[49m\u001b[43m,\u001b[49m\u001b[43m \u001b[49m\u001b[43m*\u001b[49m\u001b[43m*\u001b[49m\u001b[43mkwargs\u001b[49m\u001b[43m)\u001b[49m\n",
      "\u001b[31mFileNotFoundError\u001b[39m: [Errno 2] No such file or directory: '../analyses/current_universe.json'"
     ]
    }
   ],
   "source": [
    "# Read passed universe JSON\n",
    "uni_path = Path(\"../analyses/current_universe.json\")\n",
    "with open(uni_path) as f:\n",
    "    universe = json.load(f)\n",
    "\n",
    "universe"
   ]
  },
  {
   "cell_type": "code",
   "execution_count": null,
   "id": "0d1aaa82",
   "metadata": {},
   "outputs": [],
   "source": [
    "# Data\n",
    "from src.data import load_data, filter_data\n",
    "df = load_data()\n",
    "df = filter_data(df, exclude=universe['exclude_subgroups'])"
   ]
  },
  {
   "cell_type": "code",
   "execution_count": null,
   "id": "c5708529",
   "metadata": {},
   "outputs": [],
   "source": [
    "# Features\n",
    "from src.features import build_features\n",
    "X, y = build_features(df, universe['feature_set'])"
   ]
  },
  {
   "cell_type": "code",
   "execution_count": null,
   "id": "7c124530",
   "metadata": {},
   "outputs": [],
   "source": [
    "# Model Training\n",
    "from src.model import train_model, apply_threshold\n",
    "model = train_model(X, y, universe['model'])\n",
    "y_pred, thr = apply_threshold(model, X, policy=universe['threshold_policy'])"
   ]
  },
  {
   "cell_type": "code",
   "execution_count": null,
   "id": "2d5ecd4c",
   "metadata": {},
   "outputs": [],
   "source": [
    "# Evaluation\n",
    "from src.metrics import compute_metrics\n",
    "metrics = compute_metrics(y, y_pred)\n",
    "print(metrics)"
   ]
  },
  {
   "cell_type": "code",
   "execution_count": null,
   "id": "08f192c7",
   "metadata": {},
   "outputs": [],
   "source": [
    "# Save\n",
    "import pandas as pd\n",
    "pd.DataFrame([metrics]).assign(**universe).to_csv(\n",
    "    f\"../analyses/metrics_universe_{universe['feature_set']}_{universe['model']}.csv\",\n",
    "    index=False\n",
    ")"
   ]
  }
 ],
 "metadata": {
  "kernelspec": {
   "display_name": "cma_f",
   "language": "python",
   "name": "python3"
  },
  "language_info": {
   "codemirror_mode": {
    "name": "ipython",
    "version": 3
   },
   "file_extension": ".py",
   "mimetype": "text/x-python",
   "name": "python",
   "nbconvert_exporter": "python",
   "pygments_lexer": "ipython3",
   "version": "3.11.8"
  }
 },
 "nbformat": 4,
 "nbformat_minor": 5
}
