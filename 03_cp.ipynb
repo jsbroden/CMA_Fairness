{
 "cells": [
  {
   "cell_type": "markdown",
   "id": "07550eba",
   "metadata": {},
   "source": [
    "## Setup"
   ]
  },
  {
   "cell_type": "code",
   "execution_count": 1,
   "id": "5ad59357",
   "metadata": {},
   "outputs": [],
   "source": [
    "import pandas as pd\n",
    "import numpy as np\n",
    "from joblib import load\n",
    "\n",
    "from utils import (\n",
    "    compute_nc_scores,\n",
    "    find_threshold,\n",
    "    predict_conformal_sets,\n",
    "    evaluate_sets,\n",
    "    summarize_by_indicator,\n",
    "    summarize_for_predicate\n",
    ")"
   ]
  },
  {
   "cell_type": "markdown",
   "id": "16090e24",
   "metadata": {},
   "source": [
    "## Data and Model Loading"
   ]
  },
  {
   "cell_type": "code",
   "execution_count": 2,
   "id": "1c8eccd7",
   "metadata": {},
   "outputs": [],
   "source": [
    "X_calib_f = pd.read_csv(\"./output/X_calib_f.csv\") # 2015, w. protected attributes\n",
    "X_calib_s = pd.read_csv(\"./output/X_calib_s.csv\") # 2015, w/o protected attributes\n",
    "y_calib = pd.read_csv(\"./output/y_calib.csv\").iloc[:,0]\n",
    "\n",
    "X_test_f = pd.read_csv(\"./output/X_test_f.csv\")\n",
    "X_test_s = pd.read_csv(\"./output/X_test_s.csv\")\n",
    "y_test = pd.read_csv(\"./output/y_test.csv\").iloc[:,0]"
   ]
  },
  {
   "cell_type": "code",
   "execution_count": 3,
   "id": "84eb551f",
   "metadata": {},
   "outputs": [],
   "source": [
    "preds_test = pd.read_csv(\"./output/preds_test.csv\")\n",
    "\n",
    "glm1 = load(\"./models/glm1.joblib\")"
   ]
  },
  {
   "cell_type": "markdown",
   "id": "08fbfe25",
   "metadata": {},
   "source": [
    "## Conformal"
   ]
  },
  {
   "cell_type": "code",
   "execution_count": 4,
   "id": "102e8650",
   "metadata": {},
   "outputs": [],
   "source": [
    "# Miscoverage level\n",
    "alpha = 0.1"
   ]
  },
  {
   "cell_type": "code",
   "execution_count": 5,
   "id": "bdce0aa7",
   "metadata": {},
   "outputs": [
    {
     "name": "stderr",
     "output_type": "stream",
     "text": [
      "/var/folders/h7/6qcvyjh51cg86vrxn3xs8c_40000gn/T/ipykernel_43001/1763909247.py:4: DeprecationWarning: the `interpolation=` argument to quantile was renamed to `method=`, which has additional options.\n",
      "Users of the modes 'nearest', 'lower', 'higher', or 'midpoint' are encouraged to review the method they used. (Deprecated NumPy 1.22)\n",
      "  q_hat = find_threshold(nc_scores, alpha)\n"
     ]
    }
   ],
   "source": [
    "probs_calib = glm1.predict_proba(X_calib_f)\n",
    "\n",
    "nc_scores = compute_nc_scores(probs_calib, y_calib)\n",
    "q_hat = find_threshold(nc_scores, alpha)"
   ]
  },
  {
   "cell_type": "code",
   "execution_count": 6,
   "id": "8be08fd9",
   "metadata": {},
   "outputs": [],
   "source": [
    "# With test data\n",
    "pred_sets = predict_conformal_sets(glm1, X_test_f, q_hat)"
   ]
  },
  {
   "cell_type": "code",
   "execution_count": 7,
   "id": "2342aaab",
   "metadata": {},
   "outputs": [
    {
     "name": "stdout",
     "output_type": "stream",
     "text": [
      "Coverage: 0.90\n",
      "Avg. set size: 1.13\n"
     ]
    }
   ],
   "source": [
    "# With test data\n",
    "evaluation = evaluate_sets(pred_sets, y_test)\n",
    "print(f\"Coverage: {evaluation['coverage']:.2f}\")\n",
    "print(f\"Avg. set size: {evaluation['avg_size']:.2f}\")"
   ]
  },
  {
   "cell_type": "markdown",
   "id": "d244cff0",
   "metadata": {},
   "source": [
    "## Analyzing CP per group "
   ]
  },
  {
   "cell_type": "code",
   "execution_count": 8,
   "id": "60c576df",
   "metadata": {},
   "outputs": [],
   "source": [
    "# Create cp_groups with the same index as X_test_f (and y_test)\n",
    "cp_groups = pd.DataFrame(index=X_test_f.index)\n",
    "cp_groups['pred_set'] = pd.Series(pred_sets, index=X_test_f.index).apply(lambda s: {int(x) for x in s})\n",
    "cp_groups['true_label'] = y_test.reindex(X_test_f.index)\n",
    "cp_groups['frau1'] = X_test_f['frau1']\n",
    "\n",
    "cp_groups['nongerman'] = np.where(\n",
    "    X_test_f['maxdeutsch1'] == 0, \n",
    "    1, \n",
    "    0\n",
    ")\n",
    "cp_groups.loc[\n",
    "    X_test_f['maxdeutsch.Missing.'] == 1, \n",
    "    'nongerman'\n",
    "] = np.nan\n",
    "\n",
    "cp_groups['nongerman_male'] = np.where(\n",
    "    (cp_groups['nongerman'] == 1) & (cp_groups['frau1'] == 0),\n",
    "    1,\n",
    "    0\n",
    ")\n",
    "cp_groups['nongerman_female'] = np.where(\n",
    "    (cp_groups['nongerman'] == 1) & (cp_groups['frau1'] == 1),\n",
    "    1,\n",
    "    0\n",
    ")"
   ]
  },
  {
   "cell_type": "code",
   "execution_count": 9,
   "id": "95d1062f",
   "metadata": {},
   "outputs": [
    {
     "name": "stdout",
     "output_type": "stream",
     "text": [
      "Among cases where pred_set == {0}:\n",
      "  Proportion true_label == 1:        0.096\n",
      "  Proportion frau1 == 1:             0.415\n",
      "  Proportion nongerman == 1:         0.218\n",
      "  Proportion nongerman_male == 1:    0.140\n",
      "  Proportion nongerman_female == 1:  0.078\n",
      "\n"
     ]
    }
   ],
   "source": [
    "summarize_for_predicate(\n",
    "    cp_groups,\n",
    "    predicate=lambda s: set(s) == {0},\n",
    "    description=\"== {0}\"\n",
    ")"
   ]
  },
  {
   "cell_type": "code",
   "execution_count": 10,
   "id": "513af460",
   "metadata": {},
   "outputs": [
    {
     "name": "stdout",
     "output_type": "stream",
     "text": [
      "Among cases where pred_set == {1}:\n",
      "  Proportion true_label == 1:        0.359\n",
      "  Proportion frau1 == 1:             0.480\n",
      "  Proportion nongerman == 1:         0.066\n",
      "  Proportion nongerman_male == 1:    0.025\n",
      "  Proportion nongerman_female == 1:  0.041\n",
      "\n"
     ]
    }
   ],
   "source": [
    "summarize_for_predicate(\n",
    "    cp_groups,\n",
    "    predicate=lambda s: set(s) == {1},\n",
    "    description=\"== {1}\"\n",
    ")"
   ]
  },
  {
   "cell_type": "code",
   "execution_count": 11,
   "id": "0f322fa3",
   "metadata": {},
   "outputs": [
    {
     "name": "stdout",
     "output_type": "stream",
     "text": [
      "Among cases where pred_set == {0,1}:\n",
      "  Proportion true_label == 1:        0.298\n",
      "  Proportion frau1 == 1:             0.479\n",
      "  Proportion nongerman == 1:         0.092\n",
      "  Proportion nongerman_male == 1:    0.032\n",
      "  Proportion nongerman_female == 1:  0.060\n",
      "\n"
     ]
    }
   ],
   "source": [
    "summarize_for_predicate(\n",
    "    cp_groups,\n",
    "    predicate=lambda s: set(s) == {0,1},\n",
    "    description=\"== {0,1}\"\n",
    ")"
   ]
  },
  {
   "cell_type": "code",
   "execution_count": 12,
   "id": "0d4da4bf",
   "metadata": {},
   "outputs": [
    {
     "name": "stdout",
     "output_type": "stream",
     "text": [
      "\n",
      "Counts by gender:\n",
      "\n",
      "        is_ambiguous  is_zero_only  is_one_only\n",
      "frau1                                          \n",
      "male            5969         44518         1125\n",
      "female          5498         31562         1038\n",
      "\n",
      "Percentages for by gender:\n",
      "\n",
      "        is_ambiguous  is_zero_only  is_one_only\n",
      "frau1                                          \n",
      "male       11.565140     86.255134     2.179726\n",
      "female     14.431204     82.844244     2.724552\n"
     ]
    }
   ],
   "source": [
    "# Summarize for frau1 == 1 (vs 0)\n",
    "counts_female, pct_female = summarize_by_indicator(\n",
    "    cp_groups,\n",
    "    indicator_col='frau1',\n",
    "    positive_label='female',\n",
    "    negative_label='male'\n",
    ")\n",
    "\n",
    "print(\"\\nCounts by gender:\\n\")\n",
    "print(counts_female)\n",
    "print(\"\\nPercentages for by gender:\\n\")\n",
    "print(pct_female)"
   ]
  },
  {
   "cell_type": "code",
   "execution_count": 13,
   "id": "1533a7a4",
   "metadata": {},
   "outputs": [
    {
     "name": "stdout",
     "output_type": "stream",
     "text": [
      "Counts by nationality (German vs non‐German):\n",
      "\n",
      "            is_ambiguous  is_zero_only  is_one_only\n",
      "nongerman                                          \n",
      "German              9863         57482         1825\n",
      "non‐German          1056         16615          142\n",
      "\n",
      "Percentages by nationality:\n",
      "\n",
      "            is_ambiguous  is_zero_only  is_one_only\n",
      "nongerman                                          \n",
      "German         14.259072     83.102501     2.638427\n",
      "non‐German      5.928255     93.274575     0.797171\n"
     ]
    }
   ],
   "source": [
    "# Summarize for nongerman == 1 (vs 0)\n",
    "counts_ng, pct_ng = summarize_by_indicator(\n",
    "    cp_groups,\n",
    "    indicator_col='nongerman',\n",
    "    positive_label='non‐German',\n",
    "    negative_label='German'\n",
    ")\n",
    "\n",
    "print(\"Counts by nationality (German vs non‐German):\\n\")\n",
    "print(counts_ng)\n",
    "print(\"\\nPercentages by nationality:\\n\")\n",
    "print(pct_ng)"
   ]
  },
  {
   "cell_type": "code",
   "execution_count": 14,
   "id": "57ea6ed1",
   "metadata": {},
   "outputs": [
    {
     "name": "stdout",
     "output_type": "stream",
     "text": [
      "\n",
      "Counts for non‐German Male vs Others:\n",
      "\n",
      "                 is_ambiguous  is_zero_only  is_one_only\n",
      "nongerman_male                                          \n",
      "Others                  11101         65396         2110\n",
      "non‐German Male           366         10684           53\n",
      "\n",
      "Percentages for non‐German Male vs Others:\n",
      "\n",
      "                 is_ambiguous  is_zero_only  is_one_only\n",
      "nongerman_male                                          \n",
      "Others              14.122152     83.193609     2.684239\n",
      "non‐German Male      3.296406     96.226245     0.477348\n"
     ]
    }
   ],
   "source": [
    "# Summarize for nongerman_male == 1 (vs 0)\n",
    "counts_ng_male, pct_ng_male = summarize_by_indicator(\n",
    "    cp_groups,\n",
    "    indicator_col='nongerman_male',\n",
    "    positive_label='non‐German Male',\n",
    "    negative_label='Others'\n",
    ")\n",
    "\n",
    "print(\"\\nCounts for non‐German Male vs Others:\\n\")\n",
    "print(counts_ng_male)\n",
    "print(\"\\nPercentages for non‐German Male vs Others:\\n\")\n",
    "print(pct_ng_male)"
   ]
  },
  {
   "cell_type": "code",
   "execution_count": 15,
   "id": "2d7d5e0c",
   "metadata": {},
   "outputs": [
    {
     "name": "stdout",
     "output_type": "stream",
     "text": [
      "\n",
      "Counts for non‐German Female vs Others:\n",
      "\n",
      "                   is_ambiguous  is_zero_only  is_one_only\n",
      "nongerman_female                                          \n",
      "Others                    10777         70149         2074\n",
      "non‐German Female           690          5931           89\n",
      "\n",
      "Percentages for non‐German Female vs Others:\n",
      "\n",
      "                   is_ambiguous  is_zero_only  is_one_only\n",
      "nongerman_female                                          \n",
      "Others                12.984337     84.516867     2.498795\n",
      "non‐German Female     10.283159     88.390462     1.326379\n"
     ]
    }
   ],
   "source": [
    "# Summarize for nongerman_female == 1 (vs 0)\n",
    "counts_ng_female, pct_ng_female = summarize_by_indicator(\n",
    "    cp_groups,\n",
    "    indicator_col='nongerman_female',\n",
    "    positive_label='non‐German Female',\n",
    "    negative_label='Others'\n",
    ")\n",
    "\n",
    "print(\"\\nCounts for non‐German Female vs Others:\\n\")\n",
    "print(counts_ng_female)\n",
    "print(\"\\nPercentages for non‐German Female vs Others:\\n\")\n",
    "print(pct_ng_female)"
   ]
  }
 ],
 "metadata": {
  "kernelspec": {
   "display_name": "cma_f",
   "language": "python",
   "name": "python3"
  },
  "language_info": {
   "codemirror_mode": {
    "name": "ipython",
    "version": 3
   },
   "file_extension": ".py",
   "mimetype": "text/x-python",
   "name": "python",
   "nbconvert_exporter": "python",
   "pygments_lexer": "ipython3",
   "version": "3.11.8"
  }
 },
 "nbformat": 4,
 "nbformat_minor": 5
}
