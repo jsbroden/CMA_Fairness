{
 "cells": [
  {
   "cell_type": "code",
   "execution_count": null,
   "id": "8cb259af",
   "metadata": {},
   "outputs": [],
   "source": [
    "import itertools\n",
    "import json\n",
    "import pandas as pd\n",
    "from src.data import load_data, filter_data\n",
    "from src.features import build_features\n",
    "from src.model import train_model, apply_threshold\n",
    "from src.metrics import compute_metrics"
   ]
  },
  {
   "cell_type": "code",
   "execution_count": null,
   "id": "215a04da",
   "metadata": {},
   "outputs": [],
   "source": [
    "# 1) Define parameter grid\n",
    "PARAM_GRID = {\n",
    "    'exclude_subgroups': [None, ['subgroup1'], ['subgroup2']],\n",
    "    'feature_set': ['base', 'extended'],\n",
    "    'model': ['logistic', 'random_forest'],\n",
    "    'threshold_policy': ['fixed', 'optimized']\n",
    "}"
   ]
  },
  {
   "cell_type": "code",
   "execution_count": null,
   "id": "946c3710",
   "metadata": {},
   "outputs": [],
   "source": [
    "# 2) Generate all universes\n",
    "def generate_universes(grid):\n",
    "    keys, values = zip(*grid.items())\n",
    "    for combo in itertools.product(*values):\n",
    "        yield dict(zip(keys, combo))\n",
    "        "
   ]
  },
  {
   "cell_type": "code",
   "execution_count": null,
   "id": "d1238794",
   "metadata": {},
   "outputs": [],
   "source": [
    "# 3) Orchestrator"
   ]
  },
  {
   "cell_type": "code",
   "execution_count": null,
   "id": "6e066a0d",
   "metadata": {},
   "outputs": [],
   "source": [
    "def run_universe(universe):\n",
    "    # 1) Load + prefilter\n",
    "    df = load_data()\n",
    "    df_filtered = filter_data(df, exclude=universe['exclude_subgroups'])\n",
    "\n",
    "    # 2) Features + model\n",
    "    X, y = build_features(df_filtered, universe['feature_set'])\n",
    "    model = train_model(X, y, universe['model'])\n",
    "    y_pred, threshold = apply_threshold(model, X, policy=universe['threshold_policy'])\n",
    "\n",
    "    # 3) Metrics\n",
    "    metrics = compute_metrics(y, y_pred)\n",
    "    return metrics\n"
   ]
  },
  {
   "cell_type": "code",
   "execution_count": null,
   "id": "1d81a94c",
   "metadata": {},
   "outputs": [],
   "source": [
    "def main():\n",
    "    all_results = []\n",
    "    for idx, uni in enumerate(generate_universes(PARAM_GRID), 1):\n",
    "        print(f\"Running universe {idx}/{len(list(generate_universes(PARAM_GRID)))}: {uni}\")\n",
    "        metrics = run_universe(uni)\n",
    "        metrics.update(uni)\n",
    "        all_results.append(metrics)\n",
    "\n",
    "    # Save aggregated\n",
    "    pd.DataFrame(all_results).to_csv('analyses/results.csv', index=False)\n"
   ]
  },
  {
   "cell_type": "code",
   "execution_count": null,
   "id": "942fb5c9",
   "metadata": {},
   "outputs": [],
   "source": [
    "if __name__ == '__main__':\n",
    "    main()\n",
    "    "
   ]
  }
 ],
 "metadata": {
  "language_info": {
   "name": "python"
  }
 },
 "nbformat": 4,
 "nbformat_minor": 5
}
