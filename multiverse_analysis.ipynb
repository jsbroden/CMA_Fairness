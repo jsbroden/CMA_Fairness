{
 "cells": [
  {
   "cell_type": "code",
   "execution_count": null,
   "id": "8cb259af",
   "metadata": {},
   "outputs": [],
   "source": [
    "import itertools\n",
    "import json\n",
    "import os\n",
    "from datetime import datetime\n",
    "\n",
    "from src.universe_utils import load_all_universes  # new helper\n",
    "from src.pipeline_factory import make_train_test_matrices\n",
    "from src.model_zoo import choose_model\n",
    "from sklearn.pipeline import Pipeline"
   ]
  }
 ],
 "metadata": {
  "language_info": {
   "name": "python"
  }
 },
 "nbformat": 4,
 "nbformat_minor": 5
}
